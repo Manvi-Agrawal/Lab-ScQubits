{
 "cells": [
  {
   "cell_type": "code",
   "execution_count": null,
   "metadata": {},
   "outputs": [],
   "source": [
    "from qiskit.providers.fake_provider import FakeQuito\n",
    "\n",
    "\n",
    "# Get a fake backend from the fake provider\n",
    "fake_quito = FakeQuito()\n",
    "\n",
    "# Display supported gate set\n",
    "fake_quito.configuration().basis_gates"
   ]
  },
  {
   "cell_type": "code",
   "execution_count": null,
   "metadata": {},
   "outputs": [],
   "source": [
    "fake_quito.configuration().coupling_map"
   ]
  },
  {
   "cell_type": "code",
   "execution_count": null,
   "metadata": {},
   "outputs": [],
   "source": [
    "from qiskit import *\n",
    "from qiskit.providers.fake_provider import FakeQuito\n",
    "\n",
    "sim = FakeQuito()\n",
    "\n",
    "\n",
    "qc = QuantumCircuit(5, 5)\n",
    "qc.x(0)\n",
    "# qc_multiple[0].cx(0, 1)\n",
    "for i in range(5):\n",
    "    qc.measure(i, i)\n",
    "# qc.measure(1,1)\n"
   ]
  },
  {
   "cell_type": "code",
   "execution_count": null,
   "metadata": {},
   "outputs": [],
   "source": [
    "# 19600/70 # 280"
   ]
  },
  {
   "cell_type": "code",
   "execution_count": null,
   "metadata": {},
   "outputs": [],
   "source": [
    "result = execute(qc, sim, shots=100).result()\n",
    "result"
   ]
  },
  {
   "cell_type": "code",
   "execution_count": null,
   "metadata": {},
   "outputs": [],
   "source": [
    "result.get_counts()"
   ]
  },
  {
   "cell_type": "code",
   "execution_count": null,
   "metadata": {},
   "outputs": [],
   "source": [
    "result.to_dict()['results'][0]['data']['counts']\n"
   ]
  },
  {
   "cell_type": "code",
   "execution_count": null,
   "metadata": {},
   "outputs": [],
   "source": [
    "from qiskit import *\n",
    "from qiskit.providers.fake_provider import FakeQuito\n",
    "\n",
    "\n",
    "# sim = Aer.get_backend('unitary_simulator')\n",
    "sim = FakeQuito()\n",
    "\n",
    "\n",
    "\n",
    "# qc_multiple = [qc]*3\n",
    "qc_multiple = [QuantumCircuit(2, 2) for _ in range(3)]\n",
    "qc_multiple[0].x(0)\n",
    "# qc_multiple[0].cx(0, 1)\n",
    "qc_multiple[0].measure_all()\n",
    "# qc_multiple[0].measure(1, 0)\n",
    "\n",
    "\n",
    "\n",
    "for qc in qc_multiple:\n",
    "    print(qc.name)\n",
    "\n",
    "\n",
    "qc_trans = [transpile(qc, sim) for qc in qc_multiple]\n",
    "# result = u_sim.run(qc_trans)\n",
    "# qc_multiple = [qc_trans]*3"
   ]
  },
  {
   "cell_type": "code",
   "execution_count": null,
   "metadata": {},
   "outputs": [],
   "source": [
    "qc_trans[0].draw()"
   ]
  },
  {
   "cell_type": "code",
   "execution_count": null,
   "metadata": {},
   "outputs": [],
   "source": [
    "# result"
   ]
  },
  {
   "cell_type": "code",
   "execution_count": null,
   "metadata": {},
   "outputs": [],
   "source": [
    "result_submissions = execute(qc_multiple, sim, shots=100).result().to_dict()\n",
    "result_submissions['results'][0]"
   ]
  },
  {
   "cell_type": "code",
   "execution_count": null,
   "metadata": {},
   "outputs": [],
   "source": [
    "# for qc in qc_trans:\n",
    "#      counts = result_submissions.get_counts(qc)\n",
    "#      print(counts)"
   ]
  },
  {
   "cell_type": "markdown",
   "metadata": {},
   "source": [
    "<!-- https://github.com/Qiskit/qiskit-ibm-runtime/blob/stable/0.23/qiskit_ibm_runtime/fake_provider/backends/quito/conf_quito.json -->\n"
   ]
  },
  {
   "cell_type": "code",
   "execution_count": null,
   "metadata": {},
   "outputs": [],
   "source": [
    "# map_zero_index = fake_quito.configuration().coupling_map\n",
    "\n",
    "# for (key, value) in map_zero_index:\n",
    "#     print(key+1, value+1)"
   ]
  },
  {
   "cell_type": "code",
   "execution_count": null,
   "metadata": {},
   "outputs": [],
   "source": [
    "properties()"
   ]
  }
 ],
 "metadata": {
  "kernelspec": {
   "display_name": "qiskit-env",
   "language": "python",
   "name": "python3"
  },
  "language_info": {
   "codemirror_mode": {
    "name": "ipython",
    "version": 3
   },
   "file_extension": ".py",
   "mimetype": "text/x-python",
   "name": "python",
   "nbconvert_exporter": "python",
   "pygments_lexer": "ipython3",
   "version": "3.9.18"
  }
 },
 "nbformat": 4,
 "nbformat_minor": 2
}
