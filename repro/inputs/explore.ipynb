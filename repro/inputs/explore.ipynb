{
 "cells": [
  {
   "cell_type": "code",
   "execution_count": 6,
   "metadata": {},
   "outputs": [
    {
     "name": "stdout",
     "output_type": "stream",
     "text": [
      "CIRCUIT: [{'duration': 30, 'qudit': ['qudit_1'], 'gate': 'IGate', 'pulse': {}}, {'duration': 30, 'qudit': ['qudit_1'], 'gate': 'IGate', 'pulse': {}}, {'duration': 30, 'qudit': ['qudit_1'], 'gate': 'IGate', 'pulse': {}}, {'duration': 30, 'qudit': ['qudit_1'], 'gate': 'IGate', 'pulse': {}}, {'duration': 30, 'qudit': ['qudit_1'], 'gate': 'IGate', 'pulse': {}}, {'duration': 30, 'qudit': ['qudit_1'], 'gate': 'IGate', 'pulse': {}}, {'duration': 30, 'qudit': ['qudit_1'], 'gate': 'IGate', 'pulse': {}}, {'duration': 30, 'qudit': ['qudit_1'], 'gate': 'IGate', 'pulse': {}}, {'duration': 30, 'qudit': ['qudit_1'], 'gate': 'IGate', 'pulse': {}}, {'duration': 30, 'qudit': ['qudit_1'], 'gate': 'IGate', 'pulse': {}}, {'duration': 30, 'qudit': ['qudit_1'], 'gate': 'IGate', 'pulse': {}}, {'duration': 30, 'qudit': ['qudit_1'], 'gate': 'IGate', 'pulse': {}}, {'duration': 30, 'qudit': ['qudit_1'], 'gate': 'IGate', 'pulse': {}}, {'duration': 30, 'qudit': ['qudit_1'], 'gate': 'IGate', 'pulse': {}}, {'duration': 30, 'qudit': ['qudit_1'], 'gate': 'IGate', 'pulse': {}}, {'duration': 30, 'qudit': ['qudit_1'], 'gate': 'IGate', 'pulse': {}}, {'duration': 30, 'qudit': ['qudit_1'], 'gate': 'IGate', 'pulse': {}}, {'duration': 30, 'qudit': ['qudit_1'], 'gate': 'IGate', 'pulse': {}}, {'duration': 30, 'qudit': ['qudit_1'], 'gate': 'IGate', 'pulse': {}}, {'duration': 30, 'qudit': ['qudit_1'], 'gate': 'IGate', 'pulse': {}}, {'duration': 30, 'qudit': ['qudit_1'], 'gate': 'IGate', 'pulse': {}}, {'duration': 30, 'qudit': ['qudit_1'], 'gate': 'IGate', 'pulse': {}}, {'duration': 30, 'qudit': ['qudit_1'], 'gate': 'IGate', 'pulse': {}}, {'duration': 30, 'qudit': ['qudit_1'], 'gate': 'IGate', 'pulse': {}}, {'duration': 30, 'qudit': ['qudit_1'], 'gate': 'IGate', 'pulse': {}}, {'duration': 30, 'qudit': ['qudit_1'], 'gate': 'IGate', 'pulse': {}}, {'duration': 30, 'qudit': ['qudit_1'], 'gate': 'IGate', 'pulse': {}}, {'duration': 30, 'qudit': ['qudit_1'], 'gate': 'IGate', 'pulse': {}}, {'duration': 30, 'qudit': ['qudit_1'], 'gate': 'IGate', 'pulse': {}}, {'duration': 30, 'qudit': ['qudit_1'], 'gate': 'IGate', 'pulse': {}}, {'duration': 30, 'qudit': ['qudit_1'], 'gate': 'IGate', 'pulse': {}}, {'duration': 30, 'qudit': ['qudit_1'], 'gate': 'IGate', 'pulse': {}}, {'duration': 30, 'qudit': ['qudit_1'], 'gate': 'IGate', 'pulse': {}}, {'duration': 30, 'qudit': ['qudit_1'], 'gate': 'IGate', 'pulse': {}}, {'duration': 30, 'qudit': ['qudit_1'], 'gate': 'IGate', 'pulse': {}}, {'duration': 30, 'qudit': ['qudit_1'], 'gate': 'IGate', 'pulse': {}}, {'duration': 30, 'qudit': ['qudit_1'], 'gate': 'IGate', 'pulse': {}}, {'duration': 30, 'qudit': ['qudit_1'], 'gate': 'IGate', 'pulse': {}}, {'duration': 30, 'qudit': ['qudit_1'], 'gate': 'IGate', 'pulse': {}}, {'duration': 30, 'qudit': ['qudit_1'], 'gate': 'IGate', 'pulse': {}}, {'duration': 30, 'qudit': ['qudit_1'], 'gate': 'IGate', 'pulse': {}}, {'duration': 30, 'qudit': ['qudit_1'], 'gate': 'IGate', 'pulse': {}}, {'duration': 30, 'qudit': ['qudit_3'], 'gate': 'IGate', 'pulse': {}}, {'duration': 30, 'qudit': ['qudit_3'], 'gate': 'IGate', 'pulse': {}}, {'duration': 30, 'qudit': ['qudit_3'], 'gate': 'IGate', 'pulse': {}}, {'duration': 30, 'qudit': ['qudit_3'], 'gate': 'IGate', 'pulse': {}}, {'duration': 30, 'qudit': ['qudit_3'], 'gate': 'IGate', 'pulse': {}}, {'duration': 30, 'qudit': ['qudit_3'], 'gate': 'IGate', 'pulse': {}}, {'duration': 30, 'qudit': ['qudit_3'], 'gate': 'IGate', 'pulse': {}}, {'duration': 30, 'qudit': ['qudit_3'], 'gate': 'IGate', 'pulse': {}}, {'duration': 30, 'qudit': ['qudit_3'], 'gate': 'IGate', 'pulse': {}}, {'duration': 30, 'qudit': ['qudit_3'], 'gate': 'IGate', 'pulse': {}}, {'duration': 30, 'qudit': ['qudit_3'], 'gate': 'IGate', 'pulse': {}}, {'duration': 30, 'qudit': ['qudit_3'], 'gate': 'IGate', 'pulse': {}}, {'duration': 30, 'qudit': ['qudit_3'], 'gate': 'IGate', 'pulse': {}}, {'duration': 30, 'qudit': ['qudit_3'], 'gate': 'IGate', 'pulse': {}}, {'duration': 30, 'qudit': ['qudit_3'], 'gate': 'IGate', 'pulse': {}}, {'duration': 30, 'qudit': ['qudit_3'], 'gate': 'IGate', 'pulse': {}}, {'duration': 30, 'qudit': ['qudit_3'], 'gate': 'IGate', 'pulse': {}}, {'duration': 30, 'qudit': ['qudit_3'], 'gate': 'IGate', 'pulse': {}}, {'duration': 30, 'qudit': ['qudit_3'], 'gate': 'IGate', 'pulse': {}}, {'duration': 30, 'qudit': ['qudit_3'], 'gate': 'IGate', 'pulse': {}}, {'duration': 30, 'qudit': ['qudit_3'], 'gate': 'IGate', 'pulse': {}}, {'duration': 30, 'qudit': ['qudit_3'], 'gate': 'IGate', 'pulse': {}}, {'duration': 30, 'qudit': ['qudit_3'], 'gate': 'IGate', 'pulse': {}}, {'duration': 30, 'qudit': ['qudit_3'], 'gate': 'IGate', 'pulse': {}}, {'duration': 30, 'qudit': ['qudit_3'], 'gate': 'IGate', 'pulse': {}}, {'duration': 30, 'qudit': ['qudit_3'], 'gate': 'IGate', 'pulse': {}}, {'duration': 30, 'qudit': ['qudit_3'], 'gate': 'IGate', 'pulse': {}}, {'duration': 30, 'qudit': ['qudit_3'], 'gate': 'IGate', 'pulse': {}}, {'duration': 30, 'qudit': ['qudit_3'], 'gate': 'IGate', 'pulse': {}}, {'duration': 30, 'qudit': ['qudit_3'], 'gate': 'IGate', 'pulse': {}}, {'duration': 30, 'qudit': ['qudit_3'], 'gate': 'IGate', 'pulse': {}}, {'duration': 30, 'qudit': ['qudit_3'], 'gate': 'IGate', 'pulse': {}}, {'duration': 30, 'qudit': ['qudit_3'], 'gate': 'IGate', 'pulse': {}}, {'duration': 30, 'qudit': ['qudit_3'], 'gate': 'IGate', 'pulse': {}}, {'duration': 30, 'qudit': ['qudit_3'], 'gate': 'IGate', 'pulse': {}}, {'duration': 30, 'qudit': ['qudit_3'], 'gate': 'IGate', 'pulse': {}}, {'duration': 30, 'qudit': ['qudit_3'], 'gate': 'IGate', 'pulse': {}}, {'duration': 30, 'qudit': ['qudit_3'], 'gate': 'IGate', 'pulse': {}}, {'duration': 30, 'qudit': ['qudit_3'], 'gate': 'IGate', 'pulse': {}}, {'duration': 30, 'qudit': ['qudit_3'], 'gate': 'IGate', 'pulse': {}}, {'duration': 30, 'qudit': ['qudit_3'], 'gate': 'IGate', 'pulse': {}}, {'duration': 30, 'qudit': ['qudit_3'], 'gate': 'IGate', 'pulse': {}}, {'duration': 30, 'theta': 1.5707963267948966, 'qudit': ['qudit_2'], 'gate': 'RXGate', 'pulse': {'x_drive': {'sigma': 7.5, 'amp': 0.01556915187994301, 'type': 'gaussian'}}}, {'duration': 30, 'qudit': ['qudit_2'], 'gate': 'IGate', 'pulse': {}}, {'duration': 30, 'qudit': ['qudit_2'], 'gate': 'IGate', 'pulse': {}}, {'duration': 30, 'qudit': ['qudit_2'], 'gate': 'IGate', 'pulse': {}}, {'duration': 30, 'qudit': ['qudit_2'], 'gate': 'IGate', 'pulse': {}}, {'duration': 30, 'qudit': ['qudit_2'], 'gate': 'IGate', 'pulse': {}}, {'duration': 30, 'qudit': ['qudit_2'], 'gate': 'IGate', 'pulse': {}}, {'duration': 30, 'qudit': ['qudit_2'], 'gate': 'IGate', 'pulse': {}}, {'duration': 30, 'qudit': ['qudit_2'], 'gate': 'IGate', 'pulse': {}}, {'duration': 30, 'qudit': ['qudit_2'], 'gate': 'IGate', 'pulse': {}}, {'duration': 30, 'qudit': ['qudit_2'], 'gate': 'IGate', 'pulse': {}}, {'duration': 30, 'qudit': ['qudit_2'], 'gate': 'IGate', 'pulse': {}}, {'duration': 30, 'qudit': ['qudit_2'], 'gate': 'IGate', 'pulse': {}}, {'duration': 30, 'qudit': ['qudit_2'], 'gate': 'IGate', 'pulse': {}}, {'duration': 30, 'qudit': ['qudit_2'], 'gate': 'IGate', 'pulse': {}}, {'duration': 30, 'qudit': ['qudit_2'], 'gate': 'IGate', 'pulse': {}}, {'duration': 30, 'qudit': ['qudit_2'], 'gate': 'IGate', 'pulse': {}}, {'duration': 30, 'qudit': ['qudit_2'], 'gate': 'IGate', 'pulse': {}}, {'duration': 30, 'qudit': ['qudit_2'], 'gate': 'IGate', 'pulse': {}}, {'duration': 30, 'qudit': ['qudit_2'], 'gate': 'IGate', 'pulse': {}}, {'duration': 30, 'qudit': ['qudit_2'], 'gate': 'IGate', 'pulse': {}}, {'duration': 30, 'qudit': ['qudit_2'], 'gate': 'IGate', 'pulse': {}}, {'duration': 30, 'qudit': ['qudit_2'], 'gate': 'IGate', 'pulse': {}}, {'duration': 30, 'qudit': ['qudit_2'], 'gate': 'IGate', 'pulse': {}}, {'duration': 30, 'qudit': ['qudit_2'], 'gate': 'IGate', 'pulse': {}}, {'duration': 30, 'qudit': ['qudit_2'], 'gate': 'IGate', 'pulse': {}}, {'duration': 30, 'qudit': ['qudit_2'], 'gate': 'IGate', 'pulse': {}}, {'duration': 30, 'qudit': ['qudit_2'], 'gate': 'IGate', 'pulse': {}}, {'duration': 30, 'qudit': ['qudit_2'], 'gate': 'IGate', 'pulse': {}}, {'duration': 30, 'qudit': ['qudit_2'], 'gate': 'IGate', 'pulse': {}}, {'duration': 30, 'qudit': ['qudit_2'], 'gate': 'IGate', 'pulse': {}}, {'duration': 30, 'qudit': ['qudit_2'], 'gate': 'IGate', 'pulse': {}}, {'duration': 30, 'qudit': ['qudit_2'], 'gate': 'IGate', 'pulse': {}}, {'duration': 30, 'qudit': ['qudit_2'], 'gate': 'IGate', 'pulse': {}}, {'duration': 30, 'qudit': ['qudit_2'], 'gate': 'IGate', 'pulse': {}}, {'duration': 30, 'qudit': ['qudit_2'], 'gate': 'IGate', 'pulse': {}}, {'duration': 30, 'qudit': ['qudit_2'], 'gate': 'IGate', 'pulse': {}}, {'duration': 30, 'qudit': ['qudit_2'], 'gate': 'IGate', 'pulse': {}}, {'duration': 30, 'qudit': ['qudit_2'], 'gate': 'IGate', 'pulse': {}}, {'duration': 30, 'qudit': ['qudit_2'], 'gate': 'IGate', 'pulse': {}}, {'duration': 30, 'qudit': ['qudit_2'], 'gate': 'IGate', 'pulse': {}}, {'duration': 30, 'theta': -1.5707963267948966, 'qudit': ['qudit_2'], 'gate': 'RXGate', 'pulse': {'x_drive': {'sigma': 7.5, 'amp': -0.01556915187994301, 'type': 'gaussian'}}}, {'duration': 30, 'qudit': ['qudit_4'], 'gate': 'IGate', 'pulse': {}}, {'duration': 30, 'qudit': ['qudit_4'], 'gate': 'IGate', 'pulse': {}}, {'duration': 30, 'qudit': ['qudit_4'], 'gate': 'IGate', 'pulse': {}}, {'duration': 30, 'qudit': ['qudit_4'], 'gate': 'IGate', 'pulse': {}}, {'duration': 30, 'qudit': ['qudit_4'], 'gate': 'IGate', 'pulse': {}}, {'duration': 30, 'qudit': ['qudit_4'], 'gate': 'IGate', 'pulse': {}}, {'duration': 30, 'qudit': ['qudit_4'], 'gate': 'IGate', 'pulse': {}}, {'duration': 30, 'qudit': ['qudit_4'], 'gate': 'IGate', 'pulse': {}}, {'duration': 30, 'qudit': ['qudit_4'], 'gate': 'IGate', 'pulse': {}}, {'duration': 30, 'qudit': ['qudit_4'], 'gate': 'IGate', 'pulse': {}}, {'duration': 30, 'qudit': ['qudit_4'], 'gate': 'IGate', 'pulse': {}}, {'duration': 30, 'qudit': ['qudit_4'], 'gate': 'IGate', 'pulse': {}}, {'duration': 30, 'qudit': ['qudit_4'], 'gate': 'IGate', 'pulse': {}}, {'duration': 30, 'qudit': ['qudit_4'], 'gate': 'IGate', 'pulse': {}}, {'duration': 30, 'qudit': ['qudit_4'], 'gate': 'IGate', 'pulse': {}}, {'duration': 30, 'qudit': ['qudit_4'], 'gate': 'IGate', 'pulse': {}}, {'duration': 30, 'qudit': ['qudit_4'], 'gate': 'IGate', 'pulse': {}}, {'duration': 30, 'qudit': ['qudit_4'], 'gate': 'IGate', 'pulse': {}}, {'duration': 30, 'qudit': ['qudit_4'], 'gate': 'IGate', 'pulse': {}}, {'duration': 30, 'qudit': ['qudit_4'], 'gate': 'IGate', 'pulse': {}}, {'duration': 30, 'qudit': ['qudit_4'], 'gate': 'IGate', 'pulse': {}}, {'duration': 30, 'qudit': ['qudit_4'], 'gate': 'IGate', 'pulse': {}}, {'duration': 30, 'qudit': ['qudit_4'], 'gate': 'IGate', 'pulse': {}}, {'duration': 30, 'qudit': ['qudit_4'], 'gate': 'IGate', 'pulse': {}}, {'duration': 30, 'qudit': ['qudit_4'], 'gate': 'IGate', 'pulse': {}}, {'duration': 30, 'qudit': ['qudit_4'], 'gate': 'IGate', 'pulse': {}}, {'duration': 30, 'qudit': ['qudit_4'], 'gate': 'IGate', 'pulse': {}}, {'duration': 30, 'qudit': ['qudit_4'], 'gate': 'IGate', 'pulse': {}}, {'duration': 30, 'qudit': ['qudit_4'], 'gate': 'IGate', 'pulse': {}}, {'duration': 30, 'qudit': ['qudit_4'], 'gate': 'IGate', 'pulse': {}}, {'duration': 30, 'qudit': ['qudit_4'], 'gate': 'IGate', 'pulse': {}}, {'duration': 30, 'qudit': ['qudit_4'], 'gate': 'IGate', 'pulse': {}}, {'duration': 30, 'qudit': ['qudit_4'], 'gate': 'IGate', 'pulse': {}}, {'duration': 30, 'qudit': ['qudit_4'], 'gate': 'IGate', 'pulse': {}}, {'duration': 30, 'qudit': ['qudit_4'], 'gate': 'IGate', 'pulse': {}}, {'duration': 30, 'qudit': ['qudit_4'], 'gate': 'IGate', 'pulse': {}}, {'duration': 30, 'qudit': ['qudit_4'], 'gate': 'IGate', 'pulse': {}}, {'duration': 30, 'qudit': ['qudit_4'], 'gate': 'IGate', 'pulse': {}}, {'duration': 30, 'qudit': ['qudit_4'], 'gate': 'IGate', 'pulse': {}}, {'duration': 30, 'qudit': ['qudit_4'], 'gate': 'IGate', 'pulse': {}}, {'duration': 30, 'qudit': ['qudit_4'], 'gate': 'IGate', 'pulse': {}}, {'duration': 30, 'qudit': ['qudit_4'], 'gate': 'IGate', 'pulse': {}}]\n",
      "Circuit length : 168\n",
      "Qudit 1 gates: ['IGate', 'IGate', 'IGate', 'IGate', 'IGate', 'IGate', 'IGate', 'IGate', 'IGate', 'IGate', 'IGate', 'IGate', 'IGate', 'IGate', 'IGate', 'IGate', 'IGate', 'IGate', 'IGate', 'IGate', 'IGate', 'IGate', 'IGate', 'IGate', 'IGate', 'IGate', 'IGate', 'IGate', 'IGate', 'IGate', 'IGate', 'IGate', 'IGate', 'IGate', 'IGate', 'IGate', 'IGate', 'IGate', 'IGate', 'IGate', 'IGate', 'IGate']\n",
      "NUM Qudit 1 gates: 42\n"
     ]
    }
   ],
   "source": [
    "import json\n",
    "\n",
    "with open(f\"free_evo.json\") as json_file:\n",
    "    data = json.load(json_file)\n",
    "    circuit = data['circuit']\n",
    "    print(f\"CIRCUIT: {circuit}\")\n",
    "\n",
    "    qudit_1_gates = [g['gate'] for g in circuit if g['qudit'] == ['qudit_1']]\n",
    "    print(f\"Circuit length : {len(circuit)}\")\n",
    "\n",
    "    print(f\"Qudit 1 gates: {qudit_1_gates}\")\n",
    "    print(f\"NUM Qudit 1 gates: {len(qudit_1_gates)}\")\n"
   ]
  },
  {
   "cell_type": "code",
   "execution_count": 7,
   "metadata": {},
   "outputs": [
    {
     "data": {
      "text/plain": [
       "168"
      ]
     },
     "execution_count": 7,
     "metadata": {},
     "output_type": "execute_result"
    }
   ],
   "source": [
    "42*4"
   ]
  },
  {
   "cell_type": "code",
   "execution_count": 11,
   "metadata": {},
   "outputs": [],
   "source": [
    "def get_gates(exp_json):\n",
    "    with open(f\"{exp_json}\") as json_file:\n",
    "        data = json.load(json_file)\n",
    "\n",
    "        circuit = data['circuit']\n",
    "        print(f\"Circuit length : {len(circuit)}\")\n",
    "\n",
    "        # print(f\"CIRCUIT: {circuit}\")\n",
    "\n",
    "        qudit_gates = {}\n",
    "\n",
    "        for i in range(1, 5):\n",
    "            qudit_i_gates = [g['gate'] for g in circuit if g['qudit'] == [f'qudit_{i}'] ]\n",
    "            qudit_gates[f'qudit_{i}'] = qudit_i_gates\n",
    "            print(f\"Qudit {i} gates : {qudit_i_gates}\")\n",
    "\n"
   ]
  },
  {
   "cell_type": "code",
   "execution_count": 12,
   "metadata": {},
   "outputs": [
    {
     "name": "stdout",
     "output_type": "stream",
     "text": [
      "Circuit length : 168\n",
      "Qudit 1 gates : ['IGate', 'IGate', 'IGate', 'IGate', 'IGate', 'IGate', 'IGate', 'IGate', 'IGate', 'IGate', 'IGate', 'IGate', 'IGate', 'IGate', 'IGate', 'IGate', 'IGate', 'IGate', 'IGate', 'IGate', 'IGate', 'IGate', 'IGate', 'IGate', 'IGate', 'IGate', 'IGate', 'IGate', 'IGate', 'IGate', 'IGate', 'IGate', 'IGate', 'IGate', 'IGate', 'IGate', 'IGate', 'IGate', 'IGate', 'IGate', 'IGate', 'IGate']\n",
      "Qudit 2 gates : ['RXGate', 'IGate', 'IGate', 'IGate', 'IGate', 'IGate', 'IGate', 'IGate', 'IGate', 'IGate', 'IGate', 'IGate', 'IGate', 'IGate', 'IGate', 'IGate', 'IGate', 'IGate', 'IGate', 'IGate', 'IGate', 'IGate', 'IGate', 'IGate', 'IGate', 'IGate', 'IGate', 'IGate', 'IGate', 'IGate', 'IGate', 'IGate', 'IGate', 'IGate', 'IGate', 'IGate', 'IGate', 'IGate', 'IGate', 'IGate', 'IGate', 'RXGate']\n",
      "Qudit 3 gates : ['IGate', 'IGate', 'IGate', 'IGate', 'IGate', 'IGate', 'IGate', 'IGate', 'IGate', 'IGate', 'IGate', 'IGate', 'IGate', 'IGate', 'IGate', 'IGate', 'IGate', 'IGate', 'IGate', 'IGate', 'IGate', 'IGate', 'IGate', 'IGate', 'IGate', 'IGate', 'IGate', 'IGate', 'IGate', 'IGate', 'IGate', 'IGate', 'IGate', 'IGate', 'IGate', 'IGate', 'IGate', 'IGate', 'IGate', 'IGate', 'IGate', 'IGate']\n",
      "Qudit 4 gates : ['IGate', 'IGate', 'IGate', 'IGate', 'IGate', 'IGate', 'IGate', 'IGate', 'IGate', 'IGate', 'IGate', 'IGate', 'IGate', 'IGate', 'IGate', 'IGate', 'IGate', 'IGate', 'IGate', 'IGate', 'IGate', 'IGate', 'IGate', 'IGate', 'IGate', 'IGate', 'IGate', 'IGate', 'IGate', 'IGate', 'IGate', 'IGate', 'IGate', 'IGate', 'IGate', 'IGate', 'IGate', 'IGate', 'IGate', 'IGate', 'IGate', 'IGate']\n"
     ]
    }
   ],
   "source": [
    "get_gates('free_evo.json')"
   ]
  },
  {
   "cell_type": "code",
   "execution_count": 13,
   "metadata": {},
   "outputs": [
    {
     "name": "stdout",
     "output_type": "stream",
     "text": [
      "Circuit length : 168\n",
      "Qudit 1 gates : ['IGate', 'IGate', 'IGate', 'IGate', 'IGate', 'IGate', 'IGate', 'IGate', 'IGate', 'IGate', 'IGate', 'IGate', 'IGate', 'IGate', 'IGate', 'IGate', 'IGate', 'IGate', 'IGate', 'IGate', 'IGate', 'IGate', 'IGate', 'IGate', 'IGate', 'IGate', 'IGate', 'IGate', 'IGate', 'IGate', 'IGate', 'IGate', 'IGate', 'IGate', 'IGate', 'IGate', 'IGate', 'IGate', 'IGate', 'IGate', 'IGate', 'IGate']\n",
      "Qudit 2 gates : ['RXGate', 'RXGate', 'RYGate', 'RXGate', 'RYGate', 'RXGate', 'RYGate', 'RXGate', 'RYGate', 'RXGate', 'RYGate', 'RXGate', 'RYGate', 'RXGate', 'RYGate', 'RXGate', 'RYGate', 'RXGate', 'RYGate', 'RXGate', 'RYGate', 'RXGate', 'RYGate', 'RXGate', 'RYGate', 'RXGate', 'RYGate', 'RXGate', 'RYGate', 'RXGate', 'RYGate', 'RXGate', 'RYGate', 'RXGate', 'RYGate', 'RXGate', 'RYGate', 'RXGate', 'RYGate', 'RXGate', 'RYGate', 'RXGate']\n",
      "Qudit 3 gates : ['IGate', 'IGate', 'IGate', 'IGate', 'IGate', 'IGate', 'IGate', 'IGate', 'IGate', 'IGate', 'IGate', 'IGate', 'IGate', 'IGate', 'IGate', 'IGate', 'IGate', 'IGate', 'IGate', 'IGate', 'IGate', 'IGate', 'IGate', 'IGate', 'IGate', 'IGate', 'IGate', 'IGate', 'IGate', 'IGate', 'IGate', 'IGate', 'IGate', 'IGate', 'IGate', 'IGate', 'IGate', 'IGate', 'IGate', 'IGate', 'IGate', 'IGate']\n",
      "Qudit 4 gates : ['IGate', 'IGate', 'IGate', 'IGate', 'IGate', 'IGate', 'IGate', 'IGate', 'IGate', 'IGate', 'IGate', 'IGate', 'IGate', 'IGate', 'IGate', 'IGate', 'IGate', 'IGate', 'IGate', 'IGate', 'IGate', 'IGate', 'IGate', 'IGate', 'IGate', 'IGate', 'IGate', 'IGate', 'IGate', 'IGate', 'IGate', 'IGate', 'IGate', 'IGate', 'IGate', 'IGate', 'IGate', 'IGate', 'IGate', 'IGate', 'IGate', 'IGate']\n"
     ]
    }
   ],
   "source": [
    "get_gates('dd_main.json')\n"
   ]
  },
  {
   "cell_type": "code",
   "execution_count": 15,
   "metadata": {},
   "outputs": [
    {
     "name": "stdout",
     "output_type": "stream",
     "text": [
      "Circuit length : 168\n",
      "Qudit 1 gates : ['IGate', 'RXGate', 'RYGate', 'RXGate', 'RYGate', 'RXGate', 'RYGate', 'RXGate', 'RYGate', 'RXGate', 'RYGate', 'RXGate', 'RYGate', 'RXGate', 'RYGate', 'RXGate', 'RYGate', 'RXGate', 'RYGate', 'RXGate', 'RYGate', 'RXGate', 'RYGate', 'RXGate', 'RYGate', 'RXGate', 'RYGate', 'RXGate', 'RYGate', 'RXGate', 'RYGate', 'RXGate', 'RYGate', 'RXGate', 'RYGate', 'RXGate', 'RYGate', 'RXGate', 'RYGate', 'RXGate', 'RYGate', 'IGate']\n",
      "Qudit 2 gates : ['RXGate', 'IGate', 'IGate', 'IGate', 'IGate', 'IGate', 'IGate', 'IGate', 'IGate', 'IGate', 'IGate', 'IGate', 'IGate', 'IGate', 'IGate', 'IGate', 'IGate', 'IGate', 'IGate', 'IGate', 'IGate', 'IGate', 'IGate', 'IGate', 'IGate', 'IGate', 'IGate', 'IGate', 'IGate', 'IGate', 'IGate', 'IGate', 'IGate', 'IGate', 'IGate', 'IGate', 'IGate', 'IGate', 'IGate', 'IGate', 'IGate', 'RXGate']\n",
      "Qudit 3 gates : ['IGate', 'RXGate', 'RYGate', 'RXGate', 'RYGate', 'RXGate', 'RYGate', 'RXGate', 'RYGate', 'RXGate', 'RYGate', 'RXGate', 'RYGate', 'RXGate', 'RYGate', 'RXGate', 'RYGate', 'RXGate', 'RYGate', 'RXGate', 'RYGate', 'RXGate', 'RYGate', 'RXGate', 'RYGate', 'RXGate', 'RYGate', 'RXGate', 'RYGate', 'RXGate', 'RYGate', 'RXGate', 'RYGate', 'RXGate', 'RYGate', 'RXGate', 'RYGate', 'RXGate', 'RYGate', 'RXGate', 'RYGate', 'IGate']\n",
      "Qudit 4 gates : ['IGate', 'RXGate', 'RYGate', 'RXGate', 'RYGate', 'RXGate', 'RYGate', 'RXGate', 'RYGate', 'RXGate', 'RYGate', 'RXGate', 'RYGate', 'RXGate', 'RYGate', 'RXGate', 'RYGate', 'RXGate', 'RYGate', 'RXGate', 'RYGate', 'RXGate', 'RYGate', 'RXGate', 'RYGate', 'RXGate', 'RYGate', 'RXGate', 'RYGate', 'RXGate', 'RYGate', 'RXGate', 'RYGate', 'RXGate', 'RYGate', 'RXGate', 'RYGate', 'RXGate', 'RYGate', 'RXGate', 'RYGate', 'IGate']\n"
     ]
    }
   ],
   "source": [
    "get_gates('dd_spectator.json')"
   ]
  },
  {
   "cell_type": "code",
   "execution_count": null,
   "metadata": {},
   "outputs": [],
   "source": []
  }
 ],
 "metadata": {
  "kernelspec": {
   "display_name": "scqubit-env",
   "language": "python",
   "name": "python3"
  },
  "language_info": {
   "codemirror_mode": {
    "name": "ipython",
    "version": 3
   },
   "file_extension": ".py",
   "mimetype": "text/x-python",
   "name": "python",
   "nbconvert_exporter": "python",
   "pygments_lexer": "ipython3",
   "version": "3.11.8"
  }
 },
 "nbformat": 4,
 "nbformat_minor": 2
}
