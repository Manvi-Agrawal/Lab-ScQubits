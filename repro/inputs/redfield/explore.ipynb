{
 "cells": [
  {
   "cell_type": "code",
   "execution_count": null,
   "metadata": {},
   "outputs": [],
   "source": [
    "import json\n",
    "\n",
    "with open(f\"free_evo_new.json\") as json_file:\n",
    "    data = json.load(json_file)\n",
    "    circuit = data['circuit']\n",
    "    print(f\"CIRCUIT: {circuit}\")\n",
    "\n",
    "    qudit_1_gates = [g['gate'] for g in circuit if g['qudit'] == ['qudit_1']]\n",
    "    print(f\"Circuit length : {len(circuit)}\")\n",
    "\n",
    "    print(f\"Qudit 1 gates: {qudit_1_gates}\")\n",
    "    print(f\"NUM Qudit 1 gates: {len(qudit_1_gates)}\")\n"
   ]
  },
  {
   "cell_type": "code",
   "execution_count": null,
   "metadata": {},
   "outputs": [],
   "source": [
    "42*4"
   ]
  },
  {
   "cell_type": "code",
   "execution_count": null,
   "metadata": {},
   "outputs": [],
   "source": [
    "def get_gates(exp_json):\n",
    "    with open(f\"{exp_json}\") as json_file:\n",
    "        data = json.load(json_file)\n",
    "\n",
    "        circuit = data['circuit']\n",
    "        print(f\"Circuit length : {len(circuit)}\")\n",
    "\n",
    "        # print(f\"CIRCUIT: {circuit}\")\n",
    "\n",
    "        qudit_gates = {}\n",
    "\n",
    "        for i in range(1, 6):\n",
    "            qudit_i_gates = [g['gate'] for g in circuit if g['qudit'] == [f'qudit_{i}'] ]\n",
    "            qudit_gates[f'qudit_{i}'] = qudit_i_gates\n",
    "            print(f\"Qudit {i} gates({len(qudit_i_gates)}) : {qudit_i_gates}\")\n",
    "\n",
    "\n"
   ]
  },
  {
   "cell_type": "code",
   "execution_count": null,
   "metadata": {},
   "outputs": [],
   "source": [
    "def i_gate(q):\n",
    "     return {\n",
    "            \"duration\": 30,\n",
    "            \"qudit\": [\n",
    "                f\"qudit_{q}\"\n",
    "            ],\n",
    "            \"gate\": \"IGate\",\n",
    "            \"pulse\": {}\n",
    "        }\n",
    "i_gate(2)"
   ]
  },
  {
   "cell_type": "code",
   "execution_count": null,
   "metadata": {},
   "outputs": [],
   "source": [
    "import numpy as np\n",
    "\n",
    "def rx_gate(q, theta = np.pi):\n",
    "    multiplier = theta / np.pi\n",
    "\n",
    "    return {\n",
    "            \"duration\": 30,\n",
    "            \"theta\": np.pi*multiplier,\n",
    "            \"qudit\": [\n",
    "                f\"qudit_{q}\"\n",
    "            ],\n",
    "            \"gate\": \"RXGate\",\n",
    "            \"pulse\": {\n",
    "                \"x_drive\": {\n",
    "                    \"sigma\": 7.5,\n",
    "                    \"amp\": 0.03113830375988602*multiplier,\n",
    "                    \"type\": \"gaussian\"\n",
    "                }\n",
    "            }\n",
    "        }\n",
    "\n",
    "rx_gate(3, np.pi/2)"
   ]
  },
  {
   "cell_type": "code",
   "execution_count": null,
   "metadata": {},
   "outputs": [],
   "source": [
    "import numpy as np\n",
    "\n",
    "def ry_gate(q, theta = np.pi):\n",
    "    multiplier = theta / np.pi\n",
    "    return {\n",
    "            \"duration\": 30,\n",
    "            \"theta\": np.pi*multiplier,\n",
    "            \"qudit\": [\n",
    "                f\"qudit_{q}\"\n",
    "            ],\n",
    "            \"gate\": \"RYGate\",\n",
    "            \"pulse\": {\n",
    "                \"y_drive\": {\n",
    "                    \"sigma\": 7.5,\n",
    "                    \"amp\": 0.03113830375988602*multiplier,\n",
    "                    \"type\": \"gaussian\"\n",
    "                }\n",
    "            }\n",
    "        }\n",
    "ry_gate(2, np.pi/2)"
   ]
  },
  {
   "cell_type": "code",
   "execution_count": null,
   "metadata": {},
   "outputs": [],
   "source": [
    "import numpy as np\n",
    "\n",
    "def rz_gate(q, theta = np.pi):\n",
    "    multiplier = theta / np.pi\n",
    "    return {\n",
    "            \"duration\": 30,\n",
    "            \"theta\": np.pi * multiplier,\n",
    "            \"qudit\": [\n",
    "                f\"qudit_{q}\"\n",
    "            ],\n",
    "            \"gate\": \"RZGate\",\n",
    "            \"pulse\": {\n",
    "                \"z_drive\": {\n",
    "                    \"sigma\": 7.5,\n",
    "                    \"amp\": 0.03113830375988602 * multiplier,\n",
    "                    \"type\": \"gaussian\"\n",
    "                }\n",
    "            }\n",
    "        }\n",
    "rz_gate(2, np.pi/2)"
   ]
  },
  {
   "cell_type": "code",
   "execution_count": null,
   "metadata": {},
   "outputs": [],
   "source": [
    "circuit = [\n",
    "    i_gate(3),\n",
    "    rx_gate(2),\n",
    "    ry_gate(4),\n",
    "    rz_gate(4),\n",
    "]\n",
    "\n",
    "circuit"
   ]
  },
  {
   "cell_type": "code",
   "execution_count": null,
   "metadata": {},
   "outputs": [],
   "source": [
    "def Ix(theta):\n",
    "    return rx_gate(2, theta)\n",
    "\n",
    "def Sx(theta):\n",
    "    return rx_gate(4, theta)\n",
    "\n",
    "def Iy(theta):\n",
    "    return ry_gate(2, theta)\n",
    "\n",
    "def Sy(theta):\n",
    "    return ry_gate(4, theta)\n",
    "\n",
    "def Iz(theta):\n",
    "    return rz_gate(2, theta)\n",
    "\n",
    "def Sz(theta):\n",
    "    return rz_gate(4, theta)"
   ]
  },
  {
   "cell_type": "code",
   "execution_count": null,
   "metadata": {},
   "outputs": [],
   "source": []
  },
  {
   "cell_type": "code",
   "execution_count": null,
   "metadata": {},
   "outputs": [],
   "source": [
    "from numpy import pi as pi\n",
    "grover_iter = [ Iz(+pi) , Sz(+pi) , Sy(-pi/2) , Sx(+pi/2) , Sy(+pi/2) , Iy(-pi/2) , Ix(+pi/2) , Iy(+pi/2) , Iy(+pi/2) , Ix(+pi/2) , Ix(+pi/2) , Sy(+pi/2) , Sx(+pi/2) , Sx(+pi/2) , Iz(+pi) , Sz(+pi) , Sy(-pi/2) , Sx(-pi/2) , Sy(+pi/2) , Iy(-pi/2) , Ix(-pi/2) , Iy(+pi/2) , Iy(+pi/2) , Ix(+pi/2) , Ix(+pi/2) , Sy(+pi/2) , Sx(+pi/2) , Sx(+pi/2)]"
   ]
  },
  {
   "cell_type": "code",
   "execution_count": null,
   "metadata": {},
   "outputs": [],
   "source": [
    "from numpy import pi as pi\n",
    "\n",
    "hh = [ Iy(+pi/2) , Ix(+pi/2) , Ix(+pi/2) , Sy(+pi/2) , Sx(+pi/2) , Sx(+pi/2)]"
   ]
  },
  {
   "cell_type": "code",
   "execution_count": null,
   "metadata": {},
   "outputs": [],
   "source": [
    "from numpy import pi as pi\n",
    "\n",
    "def dd(q):\n",
    "    return [ rx_gate(q, +pi) , ry_gate(q, +pi)]*2"
   ]
  },
  {
   "cell_type": "code",
   "execution_count": null,
   "metadata": {},
   "outputs": [],
   "source": [
    "import json\n",
    "with open(f\"free_evo_new.json\") as json_file:\n",
    "    data = json.load(json_file)\n",
    "    data['circuit'] = grover_iter\n",
    "\n",
    "    with open('grover.json', 'w') as convert_file: \n",
    "        convert_file.write(json.dumps(data, indent=4, default=str))"
   ]
  },
  {
   "cell_type": "code",
   "execution_count": null,
   "metadata": {},
   "outputs": [],
   "source": [
    "import json\n",
    "\n",
    "NUM_ITER = 10\n",
    "with open(f\"free_evo_new.json\") as json_file:\n",
    "    data = json.load(json_file)\n",
    "    Nq = len(data[\"qudits\"])\n",
    "    grover_ckt = hh # 6(3)\n",
    "\n",
    "    for _ in range(NUM_ITER):\n",
    "        grover_ckt.extend(grover_iter) # 28(14)\n",
    "\n",
    "    g_count = len(grover_ckt) // 2\n",
    "    i_count = 4 - (g_count % 4)\n",
    "\n",
    "    grover_ckt.extend([i_gate(2)]*i_count)\n",
    "    grover_ckt.extend([i_gate(4)]*i_count)\n",
    "\n",
    "    dd_count = len(grover_ckt) // 8\n",
    "    grover_ckt.extend(dd(1)*dd_count)\n",
    "    grover_ckt.extend(dd(3)*dd_count)\n",
    "    grover_ckt.extend(dd(5)*dd_count)\n",
    "    # grover_ckt.extend([i_gate(1)]*dd_count*4)\n",
    "    # grover_ckt.extend([i_gate(3)]*dd_count*4)\n",
    "    # grover_ckt.extend([i_gate(5)]*dd_count*4)\n",
    "\n",
    "\n",
    "    # print(grover_ckt)\n",
    "\n",
    "\n",
    "    data['circuit'] = grover_ckt\n",
    "\n",
    "    data['solver_opt']['saveat']['times'] = [4*30*x for x in range(dd_count+1)] \n",
    "    print(f\"dd_count: {dd_count}, NEW TIMES: {data['solver_opt']['saveat']['times']} \")\n",
    "\n",
    "    with open(f'grover_free_{NUM_ITER}.json', 'w') as convert_file: \n",
    "        convert_file.write(json.dumps(data, indent=4, default=str))"
   ]
  },
  {
   "cell_type": "code",
   "execution_count": null,
   "metadata": {},
   "outputs": [],
   "source": [
    "get_gates('grover_free_10.json')\n"
   ]
  },
  {
   "cell_type": "code",
   "execution_count": null,
   "metadata": {},
   "outputs": [],
   "source": [
    "times = [4*30*x for x in range(144//4 + 1)] \n",
    "times"
   ]
  },
  {
   "cell_type": "code",
   "execution_count": null,
   "metadata": {},
   "outputs": [],
   "source": [
    "144*30"
   ]
  },
  {
   "cell_type": "code",
   "execution_count": null,
   "metadata": {},
   "outputs": [],
   "source": [
    "get_gates('grover_free_10.json')\n"
   ]
  },
  {
   "cell_type": "code",
   "execution_count": null,
   "metadata": {},
   "outputs": [],
   "source": [
    "get_gates('dd_spectator.json')\n"
   ]
  },
  {
   "cell_type": "code",
   "execution_count": null,
   "metadata": {},
   "outputs": [],
   "source": [
    "a = []\n",
    "a.extend([dd(1)]*2)\n",
    "a"
   ]
  },
  {
   "cell_type": "code",
   "execution_count": null,
   "metadata": {},
   "outputs": [],
   "source": []
  }
 ],
 "metadata": {
  "kernelspec": {
   "display_name": "scqubit-env",
   "language": "python",
   "name": "python3"
  },
  "language_info": {
   "codemirror_mode": {
    "name": "ipython",
    "version": 3
   },
   "file_extension": ".py",
   "mimetype": "text/x-python",
   "name": "python",
   "nbconvert_exporter": "python",
   "pygments_lexer": "ipython3",
   "version": "3.9.18"
  }
 },
 "nbformat": 4,
 "nbformat_minor": 2
}
