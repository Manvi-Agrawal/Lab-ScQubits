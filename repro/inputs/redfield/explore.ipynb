{
 "cells": [
  {
   "cell_type": "code",
   "execution_count": null,
   "metadata": {},
   "outputs": [],
   "source": [
    "import json\n",
    "\n",
    "with open(f\"free_evo.json\") as json_file:\n",
    "    data = json.load(json_file)\n",
    "    circuit = data['circuit']\n",
    "    print(f\"CIRCUIT: {circuit}\")\n",
    "\n",
    "    qudit_1_gates = [g['gate'] for g in circuit if g['qudit'] == ['qudit_1']]\n",
    "    print(f\"Circuit length : {len(circuit)}\")\n",
    "\n",
    "    print(f\"Qudit 1 gates: {qudit_1_gates}\")\n",
    "    print(f\"NUM Qudit 1 gates: {len(qudit_1_gates)}\")\n"
   ]
  },
  {
   "cell_type": "code",
   "execution_count": null,
   "metadata": {},
   "outputs": [],
   "source": [
    "42*4"
   ]
  },
  {
   "cell_type": "code",
   "execution_count": null,
   "metadata": {},
   "outputs": [],
   "source": [
    "def get_gates(exp_json):\n",
    "    with open(f\"{exp_json}\") as json_file:\n",
    "        data = json.load(json_file)\n",
    "\n",
    "        circuit = data['circuit']\n",
    "        print(f\"Circuit length : {len(circuit)}\")\n",
    "\n",
    "        # print(f\"CIRCUIT: {circuit}\")\n",
    "\n",
    "        qudit_gates = {}\n",
    "\n",
    "        for i in range(1, 5):\n",
    "            qudit_i_gates = [g['gate'] for g in circuit if g['qudit'] == [f'qudit_{i}'] ]\n",
    "            qudit_gates[f'qudit_{i}'] = qudit_i_gates\n",
    "            print(f\"Qudit {i} gates({len(qudit_i_gates)}) : {qudit_i_gates}\")\n",
    "\n",
    "\n"
   ]
  },
  {
   "cell_type": "code",
   "execution_count": null,
   "metadata": {},
   "outputs": [],
   "source": [
    "get_gates('free_evo.json')"
   ]
  },
  {
   "cell_type": "code",
   "execution_count": null,
   "metadata": {},
   "outputs": [],
   "source": [
    "get_gates('dd_main.json')\n"
   ]
  },
  {
   "cell_type": "code",
   "execution_count": null,
   "metadata": {},
   "outputs": [],
   "source": [
    "get_gates('dd_spectator.json')"
   ]
  },
  {
   "cell_type": "code",
   "execution_count": null,
   "metadata": {},
   "outputs": [],
   "source": [
    "def i_gate(q):\n",
    "     return {\n",
    "            \"duration\": 30,\n",
    "            \"qudit\": [\n",
    "                f\"qudit_{q}\"\n",
    "            ],\n",
    "            \"gate\": \"IGate\",\n",
    "            \"pulse\": {}\n",
    "        }\n",
    "i_gate(2)"
   ]
  },
  {
   "cell_type": "code",
   "execution_count": null,
   "metadata": {},
   "outputs": [],
   "source": [
    "import numpy as np\n",
    "\n",
    "def rx_gate(q, theta = np.pi):\n",
    "    return {\n",
    "            \"duration\": 30,\n",
    "            \"theta\": theta,\n",
    "            \"qudit\": [\n",
    "                f\"qudit_{q}\"\n",
    "            ],\n",
    "            \"gate\": \"RXGate\",\n",
    "            \"pulse\": {\n",
    "                \"x_drive\": {\n",
    "                    \"sigma\": 7.5,\n",
    "                    \"amp\": 0.03113830375988602,\n",
    "                    \"type\": \"gaussian\"\n",
    "                }\n",
    "            }\n",
    "        }\n",
    "\n",
    "rx_gate(3, np.pi/2)"
   ]
  },
  {
   "cell_type": "code",
   "execution_count": null,
   "metadata": {},
   "outputs": [],
   "source": [
    "import numpy as np\n",
    "\n",
    "def ry_gate(q, theta = np.pi):\n",
    "    return {\n",
    "            \"duration\": 30,\n",
    "            \"theta\": theta,\n",
    "            \"qudit\": [\n",
    "                f\"qudit_{q}\"\n",
    "            ],\n",
    "            \"gate\": \"RYGate\",\n",
    "            \"pulse\": {\n",
    "                \"y_drive\": {\n",
    "                    \"sigma\": 7.5,\n",
    "                    \"amp\": 0.03113830375988602,\n",
    "                    \"type\": \"gaussian\"\n",
    "                }\n",
    "            }\n",
    "        }\n",
    "ry_gate(2)"
   ]
  },
  {
   "cell_type": "code",
   "execution_count": null,
   "metadata": {},
   "outputs": [],
   "source": [
    "import numpy as np\n",
    "\n",
    "def rz_gate(q, theta = np.pi):\n",
    "    return {\n",
    "            \"duration\": 30,\n",
    "            \"theta\": theta,\n",
    "            \"qudit\": [\n",
    "                f\"qudit_{q}\"\n",
    "            ],\n",
    "            \"gate\": \"RZGate\",\n",
    "            \"pulse\": {\n",
    "                \"z_drive\": {\n",
    "                    \"sigma\": 7.5,\n",
    "                    \"amp\": 0.03113830375988602,\n",
    "                    \"type\": \"gaussian\"\n",
    "                }\n",
    "            }\n",
    "        }\n",
    "rz_gate(2)"
   ]
  },
  {
   "cell_type": "code",
   "execution_count": null,
   "metadata": {},
   "outputs": [],
   "source": [
    "circuit = [\n",
    "    i_gate(3),\n",
    "    rx_gate(2),\n",
    "    ry_gate(4),\n",
    "    rz_gate(4),\n",
    "]\n",
    "\n",
    "circuit"
   ]
  },
  {
   "cell_type": "code",
   "execution_count": null,
   "metadata": {},
   "outputs": [],
   "source": [
    "import json\n",
    "with open(f\"free_evo.json\") as json_file:\n",
    "    data = json.load(json_file)\n",
    "    data['circuit'] = circuit\n",
    "\n",
    "    with open('try.json', 'w') as convert_file: \n",
    "        convert_file.write(json.dumps(data, indent=4, default=str))"
   ]
  },
  {
   "cell_type": "code",
   "execution_count": null,
   "metadata": {},
   "outputs": [],
   "source": [
    "from numpy import pi as pi\n",
    "\n",
    "pi"
   ]
  },
  {
   "cell_type": "code",
   "execution_count": null,
   "metadata": {},
   "outputs": [],
   "source": [
    "def Ix(theta):\n",
    "    return rx_gate(2, theta)\n",
    "\n",
    "def Sx(theta):\n",
    "    return rx_gate(4, theta)\n",
    "\n",
    "def Iy(theta):\n",
    "    return ry_gate(2, theta)\n",
    "\n",
    "def Sy(theta):\n",
    "    return ry_gate(4, theta)\n",
    "\n",
    "def Iz(theta):\n",
    "    return rz_gate(2, theta)\n",
    "\n",
    "def Sz(theta):\n",
    "    return rz_gate(4, theta)"
   ]
  },
  {
   "cell_type": "code",
   "execution_count": null,
   "metadata": {},
   "outputs": [],
   "source": [
    "[ Ix(+pi) , Sx(+pi)]\n"
   ]
  },
  {
   "cell_type": "code",
   "execution_count": null,
   "metadata": {},
   "outputs": [],
   "source": [
    "grover_iter = [ Iz(+pi) , Sz(+pi) , Sy(-pi/2) , Sx(+pi/2) , Sy(+pi/2) , Iy(-pi/2) , Ix(+pi/2) , Iy(+pi/2) , Iy(+pi/2) , Ix(+pi/2) , Ix(+pi/2) , Sy(+pi/2) , Sx(+pi/2) , Sx(+pi/2) , Iz(+pi) , Sz(+pi) , Sy(-pi/2) , Sx(-pi/2) , Sy(+pi/2) , Iy(-pi/2) , Ix(-pi/2) , Iy(+pi/2) , Iy(+pi/2) , Ix(+pi/2) , Ix(+pi/2) , Sy(+pi/2) , Sx(+pi/2) , Sx(+pi/2)]"
   ]
  },
  {
   "cell_type": "code",
   "execution_count": null,
   "metadata": {},
   "outputs": [],
   "source": [
    "hh = [ Iy(+pi/2) , Ix(+pi/2) , Ix(+pi/2) , Sy(+pi/2) , Sx(+pi/2) , Sx(+pi/2)]"
   ]
  },
  {
   "cell_type": "code",
   "execution_count": null,
   "metadata": {},
   "outputs": [],
   "source": [
    "def dd(q):\n",
    "    return [ rx_gate(q, +pi) , ry_gate(q, +pi)]*2"
   ]
  },
  {
   "cell_type": "code",
   "execution_count": null,
   "metadata": {},
   "outputs": [],
   "source": [
    "import json\n",
    "with open(f\"free_evo.json\") as json_file:\n",
    "    data = json.load(json_file)\n",
    "    data['circuit'] = grover_iter\n",
    "\n",
    "    with open('grover.json', 'w') as convert_file: \n",
    "        convert_file.write(json.dumps(data, indent=4, default=str))"
   ]
  },
  {
   "cell_type": "code",
   "execution_count": null,
   "metadata": {},
   "outputs": [],
   "source": [
    "import json\n",
    "with open(f\"free_evo.json\") as json_file:\n",
    "    data = json.load(json_file)\n",
    "    grover_ckt = hh\n",
    "    grover_ckt.extend(grover_iter)\n",
    "    grover_ckt.extend([i_gate(2)]*3)\n",
    "    grover_ckt.extend([i_gate(4)]*3)\n",
    "    grover_ckt.extend(dd(1)*5)\n",
    "    grover_ckt.extend(dd(3)*5)\n",
    "\n",
    "    # print(grover_ckt)\n",
    "\n",
    "\n",
    "    data['circuit'] = grover_ckt\n",
    "\n",
    "    with open('grover3.json', 'w') as convert_file: \n",
    "        convert_file.write(json.dumps(data, indent=4, default=str))"
   ]
  },
  {
   "cell_type": "code",
   "execution_count": null,
   "metadata": {},
   "outputs": [],
   "source": [
    "get_gates('grover3.json')\n"
   ]
  },
  {
   "cell_type": "code",
   "execution_count": null,
   "metadata": {},
   "outputs": [],
   "source": [
    "get_gates('grover.json')\n"
   ]
  },
  {
   "cell_type": "code",
   "execution_count": null,
   "metadata": {},
   "outputs": [],
   "source": [
    "get_gates('dd_spectator.json')\n"
   ]
  },
  {
   "cell_type": "code",
   "execution_count": null,
   "metadata": {},
   "outputs": [],
   "source": [
    "a = []\n",
    "a.extend([dd(1)]*2)\n",
    "a"
   ]
  },
  {
   "cell_type": "code",
   "execution_count": null,
   "metadata": {},
   "outputs": [],
   "source": []
  }
 ],
 "metadata": {
  "kernelspec": {
   "display_name": "scqubit-env",
   "language": "python",
   "name": "python3"
  },
  "language_info": {
   "codemirror_mode": {
    "name": "ipython",
    "version": 3
   },
   "file_extension": ".py",
   "mimetype": "text/x-python",
   "name": "python",
   "nbconvert_exporter": "python",
   "pygments_lexer": "ipython3",
   "version": "3.9.18"
  }
 },
 "nbformat": 4,
 "nbformat_minor": 2
}
