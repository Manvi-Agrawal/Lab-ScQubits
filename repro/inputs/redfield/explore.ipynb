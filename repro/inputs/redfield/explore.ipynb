{
 "cells": [
  {
   "cell_type": "code",
   "execution_count": 1,
   "metadata": {},
   "outputs": [
    {
     "name": "stdout",
     "output_type": "stream",
     "text": [
      "CIRCUIT: [{'duration': 30, 'qudit': ['qudit_1'], 'gate': 'IGate', 'pulse': {}}, {'duration': 30, 'qudit': ['qudit_1'], 'gate': 'IGate', 'pulse': {}}, {'duration': 30, 'qudit': ['qudit_1'], 'gate': 'IGate', 'pulse': {}}, {'duration': 30, 'qudit': ['qudit_1'], 'gate': 'IGate', 'pulse': {}}, {'duration': 30, 'qudit': ['qudit_1'], 'gate': 'IGate', 'pulse': {}}, {'duration': 30, 'qudit': ['qudit_1'], 'gate': 'IGate', 'pulse': {}}, {'duration': 30, 'qudit': ['qudit_1'], 'gate': 'IGate', 'pulse': {}}, {'duration': 30, 'qudit': ['qudit_1'], 'gate': 'IGate', 'pulse': {}}, {'duration': 30, 'qudit': ['qudit_1'], 'gate': 'IGate', 'pulse': {}}, {'duration': 30, 'qudit': ['qudit_1'], 'gate': 'IGate', 'pulse': {}}, {'duration': 30, 'qudit': ['qudit_1'], 'gate': 'IGate', 'pulse': {}}, {'duration': 30, 'qudit': ['qudit_1'], 'gate': 'IGate', 'pulse': {}}, {'duration': 30, 'qudit': ['qudit_1'], 'gate': 'IGate', 'pulse': {}}, {'duration': 30, 'qudit': ['qudit_1'], 'gate': 'IGate', 'pulse': {}}, {'duration': 30, 'qudit': ['qudit_1'], 'gate': 'IGate', 'pulse': {}}, {'duration': 30, 'qudit': ['qudit_1'], 'gate': 'IGate', 'pulse': {}}, {'duration': 30, 'qudit': ['qudit_1'], 'gate': 'IGate', 'pulse': {}}, {'duration': 30, 'qudit': ['qudit_1'], 'gate': 'IGate', 'pulse': {}}, {'duration': 30, 'qudit': ['qudit_1'], 'gate': 'IGate', 'pulse': {}}, {'duration': 30, 'qudit': ['qudit_1'], 'gate': 'IGate', 'pulse': {}}, {'duration': 30, 'qudit': ['qudit_1'], 'gate': 'IGate', 'pulse': {}}, {'duration': 30, 'qudit': ['qudit_1'], 'gate': 'IGate', 'pulse': {}}, {'duration': 30, 'qudit': ['qudit_1'], 'gate': 'IGate', 'pulse': {}}, {'duration': 30, 'qudit': ['qudit_1'], 'gate': 'IGate', 'pulse': {}}, {'duration': 30, 'qudit': ['qudit_1'], 'gate': 'IGate', 'pulse': {}}, {'duration': 30, 'qudit': ['qudit_1'], 'gate': 'IGate', 'pulse': {}}, {'duration': 30, 'qudit': ['qudit_1'], 'gate': 'IGate', 'pulse': {}}, {'duration': 30, 'qudit': ['qudit_1'], 'gate': 'IGate', 'pulse': {}}, {'duration': 30, 'qudit': ['qudit_1'], 'gate': 'IGate', 'pulse': {}}, {'duration': 30, 'qudit': ['qudit_1'], 'gate': 'IGate', 'pulse': {}}, {'duration': 30, 'qudit': ['qudit_1'], 'gate': 'IGate', 'pulse': {}}, {'duration': 30, 'qudit': ['qudit_1'], 'gate': 'IGate', 'pulse': {}}, {'duration': 30, 'qudit': ['qudit_1'], 'gate': 'IGate', 'pulse': {}}, {'duration': 30, 'qudit': ['qudit_1'], 'gate': 'IGate', 'pulse': {}}, {'duration': 30, 'qudit': ['qudit_1'], 'gate': 'IGate', 'pulse': {}}, {'duration': 30, 'qudit': ['qudit_1'], 'gate': 'IGate', 'pulse': {}}, {'duration': 30, 'qudit': ['qudit_1'], 'gate': 'IGate', 'pulse': {}}, {'duration': 30, 'qudit': ['qudit_1'], 'gate': 'IGate', 'pulse': {}}, {'duration': 30, 'qudit': ['qudit_1'], 'gate': 'IGate', 'pulse': {}}, {'duration': 30, 'qudit': ['qudit_1'], 'gate': 'IGate', 'pulse': {}}, {'duration': 30, 'qudit': ['qudit_1'], 'gate': 'IGate', 'pulse': {}}, {'duration': 30, 'qudit': ['qudit_1'], 'gate': 'IGate', 'pulse': {}}, {'duration': 30, 'qudit': ['qudit_3'], 'gate': 'IGate', 'pulse': {}}, {'duration': 30, 'qudit': ['qudit_3'], 'gate': 'IGate', 'pulse': {}}, {'duration': 30, 'qudit': ['qudit_3'], 'gate': 'IGate', 'pulse': {}}, {'duration': 30, 'qudit': ['qudit_3'], 'gate': 'IGate', 'pulse': {}}, {'duration': 30, 'qudit': ['qudit_3'], 'gate': 'IGate', 'pulse': {}}, {'duration': 30, 'qudit': ['qudit_3'], 'gate': 'IGate', 'pulse': {}}, {'duration': 30, 'qudit': ['qudit_3'], 'gate': 'IGate', 'pulse': {}}, {'duration': 30, 'qudit': ['qudit_3'], 'gate': 'IGate', 'pulse': {}}, {'duration': 30, 'qudit': ['qudit_3'], 'gate': 'IGate', 'pulse': {}}, {'duration': 30, 'qudit': ['qudit_3'], 'gate': 'IGate', 'pulse': {}}, {'duration': 30, 'qudit': ['qudit_3'], 'gate': 'IGate', 'pulse': {}}, {'duration': 30, 'qudit': ['qudit_3'], 'gate': 'IGate', 'pulse': {}}, {'duration': 30, 'qudit': ['qudit_3'], 'gate': 'IGate', 'pulse': {}}, {'duration': 30, 'qudit': ['qudit_3'], 'gate': 'IGate', 'pulse': {}}, {'duration': 30, 'qudit': ['qudit_3'], 'gate': 'IGate', 'pulse': {}}, {'duration': 30, 'qudit': ['qudit_3'], 'gate': 'IGate', 'pulse': {}}, {'duration': 30, 'qudit': ['qudit_3'], 'gate': 'IGate', 'pulse': {}}, {'duration': 30, 'qudit': ['qudit_3'], 'gate': 'IGate', 'pulse': {}}, {'duration': 30, 'qudit': ['qudit_3'], 'gate': 'IGate', 'pulse': {}}, {'duration': 30, 'qudit': ['qudit_3'], 'gate': 'IGate', 'pulse': {}}, {'duration': 30, 'qudit': ['qudit_3'], 'gate': 'IGate', 'pulse': {}}, {'duration': 30, 'qudit': ['qudit_3'], 'gate': 'IGate', 'pulse': {}}, {'duration': 30, 'qudit': ['qudit_3'], 'gate': 'IGate', 'pulse': {}}, {'duration': 30, 'qudit': ['qudit_3'], 'gate': 'IGate', 'pulse': {}}, {'duration': 30, 'qudit': ['qudit_3'], 'gate': 'IGate', 'pulse': {}}, {'duration': 30, 'qudit': ['qudit_3'], 'gate': 'IGate', 'pulse': {}}, {'duration': 30, 'qudit': ['qudit_3'], 'gate': 'IGate', 'pulse': {}}, {'duration': 30, 'qudit': ['qudit_3'], 'gate': 'IGate', 'pulse': {}}, {'duration': 30, 'qudit': ['qudit_3'], 'gate': 'IGate', 'pulse': {}}, {'duration': 30, 'qudit': ['qudit_3'], 'gate': 'IGate', 'pulse': {}}, {'duration': 30, 'qudit': ['qudit_3'], 'gate': 'IGate', 'pulse': {}}, {'duration': 30, 'qudit': ['qudit_3'], 'gate': 'IGate', 'pulse': {}}, {'duration': 30, 'qudit': ['qudit_3'], 'gate': 'IGate', 'pulse': {}}, {'duration': 30, 'qudit': ['qudit_3'], 'gate': 'IGate', 'pulse': {}}, {'duration': 30, 'qudit': ['qudit_3'], 'gate': 'IGate', 'pulse': {}}, {'duration': 30, 'qudit': ['qudit_3'], 'gate': 'IGate', 'pulse': {}}, {'duration': 30, 'qudit': ['qudit_3'], 'gate': 'IGate', 'pulse': {}}, {'duration': 30, 'qudit': ['qudit_3'], 'gate': 'IGate', 'pulse': {}}, {'duration': 30, 'qudit': ['qudit_3'], 'gate': 'IGate', 'pulse': {}}, {'duration': 30, 'qudit': ['qudit_3'], 'gate': 'IGate', 'pulse': {}}, {'duration': 30, 'qudit': ['qudit_3'], 'gate': 'IGate', 'pulse': {}}, {'duration': 30, 'qudit': ['qudit_3'], 'gate': 'IGate', 'pulse': {}}, {'duration': 30, 'theta': 1.5707963267948966, 'qudit': ['qudit_2'], 'gate': 'RXGate', 'pulse': {'x_drive': {'sigma': 7.5, 'amp': 0.01556915187994301, 'type': 'gaussian'}}}, {'duration': 30, 'qudit': ['qudit_2'], 'gate': 'IGate', 'pulse': {}}, {'duration': 30, 'qudit': ['qudit_2'], 'gate': 'IGate', 'pulse': {}}, {'duration': 30, 'qudit': ['qudit_2'], 'gate': 'IGate', 'pulse': {}}, {'duration': 30, 'qudit': ['qudit_2'], 'gate': 'IGate', 'pulse': {}}, {'duration': 30, 'qudit': ['qudit_2'], 'gate': 'IGate', 'pulse': {}}, {'duration': 30, 'qudit': ['qudit_2'], 'gate': 'IGate', 'pulse': {}}, {'duration': 30, 'qudit': ['qudit_2'], 'gate': 'IGate', 'pulse': {}}, {'duration': 30, 'qudit': ['qudit_2'], 'gate': 'IGate', 'pulse': {}}, {'duration': 30, 'qudit': ['qudit_2'], 'gate': 'IGate', 'pulse': {}}, {'duration': 30, 'qudit': ['qudit_2'], 'gate': 'IGate', 'pulse': {}}, {'duration': 30, 'qudit': ['qudit_2'], 'gate': 'IGate', 'pulse': {}}, {'duration': 30, 'qudit': ['qudit_2'], 'gate': 'IGate', 'pulse': {}}, {'duration': 30, 'qudit': ['qudit_2'], 'gate': 'IGate', 'pulse': {}}, {'duration': 30, 'qudit': ['qudit_2'], 'gate': 'IGate', 'pulse': {}}, {'duration': 30, 'qudit': ['qudit_2'], 'gate': 'IGate', 'pulse': {}}, {'duration': 30, 'qudit': ['qudit_2'], 'gate': 'IGate', 'pulse': {}}, {'duration': 30, 'qudit': ['qudit_2'], 'gate': 'IGate', 'pulse': {}}, {'duration': 30, 'qudit': ['qudit_2'], 'gate': 'IGate', 'pulse': {}}, {'duration': 30, 'qudit': ['qudit_2'], 'gate': 'IGate', 'pulse': {}}, {'duration': 30, 'qudit': ['qudit_2'], 'gate': 'IGate', 'pulse': {}}, {'duration': 30, 'qudit': ['qudit_2'], 'gate': 'IGate', 'pulse': {}}, {'duration': 30, 'qudit': ['qudit_2'], 'gate': 'IGate', 'pulse': {}}, {'duration': 30, 'qudit': ['qudit_2'], 'gate': 'IGate', 'pulse': {}}, {'duration': 30, 'qudit': ['qudit_2'], 'gate': 'IGate', 'pulse': {}}, {'duration': 30, 'qudit': ['qudit_2'], 'gate': 'IGate', 'pulse': {}}, {'duration': 30, 'qudit': ['qudit_2'], 'gate': 'IGate', 'pulse': {}}, {'duration': 30, 'qudit': ['qudit_2'], 'gate': 'IGate', 'pulse': {}}, {'duration': 30, 'qudit': ['qudit_2'], 'gate': 'IGate', 'pulse': {}}, {'duration': 30, 'qudit': ['qudit_2'], 'gate': 'IGate', 'pulse': {}}, {'duration': 30, 'qudit': ['qudit_2'], 'gate': 'IGate', 'pulse': {}}, {'duration': 30, 'qudit': ['qudit_2'], 'gate': 'IGate', 'pulse': {}}, {'duration': 30, 'qudit': ['qudit_2'], 'gate': 'IGate', 'pulse': {}}, {'duration': 30, 'qudit': ['qudit_2'], 'gate': 'IGate', 'pulse': {}}, {'duration': 30, 'qudit': ['qudit_2'], 'gate': 'IGate', 'pulse': {}}, {'duration': 30, 'qudit': ['qudit_2'], 'gate': 'IGate', 'pulse': {}}, {'duration': 30, 'qudit': ['qudit_2'], 'gate': 'IGate', 'pulse': {}}, {'duration': 30, 'qudit': ['qudit_2'], 'gate': 'IGate', 'pulse': {}}, {'duration': 30, 'qudit': ['qudit_2'], 'gate': 'IGate', 'pulse': {}}, {'duration': 30, 'qudit': ['qudit_2'], 'gate': 'IGate', 'pulse': {}}, {'duration': 30, 'qudit': ['qudit_2'], 'gate': 'IGate', 'pulse': {}}, {'duration': 30, 'theta': -1.5707963267948966, 'qudit': ['qudit_2'], 'gate': 'RXGate', 'pulse': {'x_drive': {'sigma': 7.5, 'amp': -0.01556915187994301, 'type': 'gaussian'}}}, {'duration': 30, 'qudit': ['qudit_4'], 'gate': 'IGate', 'pulse': {}}, {'duration': 30, 'qudit': ['qudit_4'], 'gate': 'IGate', 'pulse': {}}, {'duration': 30, 'qudit': ['qudit_4'], 'gate': 'IGate', 'pulse': {}}, {'duration': 30, 'qudit': ['qudit_4'], 'gate': 'IGate', 'pulse': {}}, {'duration': 30, 'qudit': ['qudit_4'], 'gate': 'IGate', 'pulse': {}}, {'duration': 30, 'qudit': ['qudit_4'], 'gate': 'IGate', 'pulse': {}}, {'duration': 30, 'qudit': ['qudit_4'], 'gate': 'IGate', 'pulse': {}}, {'duration': 30, 'qudit': ['qudit_4'], 'gate': 'IGate', 'pulse': {}}, {'duration': 30, 'qudit': ['qudit_4'], 'gate': 'IGate', 'pulse': {}}, {'duration': 30, 'qudit': ['qudit_4'], 'gate': 'IGate', 'pulse': {}}, {'duration': 30, 'qudit': ['qudit_4'], 'gate': 'IGate', 'pulse': {}}, {'duration': 30, 'qudit': ['qudit_4'], 'gate': 'IGate', 'pulse': {}}, {'duration': 30, 'qudit': ['qudit_4'], 'gate': 'IGate', 'pulse': {}}, {'duration': 30, 'qudit': ['qudit_4'], 'gate': 'IGate', 'pulse': {}}, {'duration': 30, 'qudit': ['qudit_4'], 'gate': 'IGate', 'pulse': {}}, {'duration': 30, 'qudit': ['qudit_4'], 'gate': 'IGate', 'pulse': {}}, {'duration': 30, 'qudit': ['qudit_4'], 'gate': 'IGate', 'pulse': {}}, {'duration': 30, 'qudit': ['qudit_4'], 'gate': 'IGate', 'pulse': {}}, {'duration': 30, 'qudit': ['qudit_4'], 'gate': 'IGate', 'pulse': {}}, {'duration': 30, 'qudit': ['qudit_4'], 'gate': 'IGate', 'pulse': {}}, {'duration': 30, 'qudit': ['qudit_4'], 'gate': 'IGate', 'pulse': {}}, {'duration': 30, 'qudit': ['qudit_4'], 'gate': 'IGate', 'pulse': {}}, {'duration': 30, 'qudit': ['qudit_4'], 'gate': 'IGate', 'pulse': {}}, {'duration': 30, 'qudit': ['qudit_4'], 'gate': 'IGate', 'pulse': {}}, {'duration': 30, 'qudit': ['qudit_4'], 'gate': 'IGate', 'pulse': {}}, {'duration': 30, 'qudit': ['qudit_4'], 'gate': 'IGate', 'pulse': {}}, {'duration': 30, 'qudit': ['qudit_4'], 'gate': 'IGate', 'pulse': {}}, {'duration': 30, 'qudit': ['qudit_4'], 'gate': 'IGate', 'pulse': {}}, {'duration': 30, 'qudit': ['qudit_4'], 'gate': 'IGate', 'pulse': {}}, {'duration': 30, 'qudit': ['qudit_4'], 'gate': 'IGate', 'pulse': {}}, {'duration': 30, 'qudit': ['qudit_4'], 'gate': 'IGate', 'pulse': {}}, {'duration': 30, 'qudit': ['qudit_4'], 'gate': 'IGate', 'pulse': {}}, {'duration': 30, 'qudit': ['qudit_4'], 'gate': 'IGate', 'pulse': {}}, {'duration': 30, 'qudit': ['qudit_4'], 'gate': 'IGate', 'pulse': {}}, {'duration': 30, 'qudit': ['qudit_4'], 'gate': 'IGate', 'pulse': {}}, {'duration': 30, 'qudit': ['qudit_4'], 'gate': 'IGate', 'pulse': {}}, {'duration': 30, 'qudit': ['qudit_4'], 'gate': 'IGate', 'pulse': {}}, {'duration': 30, 'qudit': ['qudit_4'], 'gate': 'IGate', 'pulse': {}}, {'duration': 30, 'qudit': ['qudit_4'], 'gate': 'IGate', 'pulse': {}}, {'duration': 30, 'qudit': ['qudit_4'], 'gate': 'IGate', 'pulse': {}}, {'duration': 30, 'qudit': ['qudit_4'], 'gate': 'IGate', 'pulse': {}}, {'duration': 30, 'qudit': ['qudit_4'], 'gate': 'IGate', 'pulse': {}}]\n",
      "Circuit length : 168\n",
      "Qudit 1 gates: ['IGate', 'IGate', 'IGate', 'IGate', 'IGate', 'IGate', 'IGate', 'IGate', 'IGate', 'IGate', 'IGate', 'IGate', 'IGate', 'IGate', 'IGate', 'IGate', 'IGate', 'IGate', 'IGate', 'IGate', 'IGate', 'IGate', 'IGate', 'IGate', 'IGate', 'IGate', 'IGate', 'IGate', 'IGate', 'IGate', 'IGate', 'IGate', 'IGate', 'IGate', 'IGate', 'IGate', 'IGate', 'IGate', 'IGate', 'IGate', 'IGate', 'IGate']\n",
      "NUM Qudit 1 gates: 42\n"
     ]
    }
   ],
   "source": [
    "import json\n",
    "\n",
    "with open(f\"free_evo.json\") as json_file:\n",
    "    data = json.load(json_file)\n",
    "    circuit = data['circuit']\n",
    "    print(f\"CIRCUIT: {circuit}\")\n",
    "\n",
    "    qudit_1_gates = [g['gate'] for g in circuit if g['qudit'] == ['qudit_1']]\n",
    "    print(f\"Circuit length : {len(circuit)}\")\n",
    "\n",
    "    print(f\"Qudit 1 gates: {qudit_1_gates}\")\n",
    "    print(f\"NUM Qudit 1 gates: {len(qudit_1_gates)}\")\n"
   ]
  },
  {
   "cell_type": "code",
   "execution_count": 2,
   "metadata": {},
   "outputs": [
    {
     "data": {
      "text/plain": [
       "168"
      ]
     },
     "execution_count": 2,
     "metadata": {},
     "output_type": "execute_result"
    }
   ],
   "source": [
    "42*4"
   ]
  },
  {
   "cell_type": "code",
   "execution_count": 3,
   "metadata": {},
   "outputs": [],
   "source": [
    "def get_gates(exp_json):\n",
    "    with open(f\"{exp_json}\") as json_file:\n",
    "        data = json.load(json_file)\n",
    "\n",
    "        circuit = data['circuit']\n",
    "        print(f\"Circuit length : {len(circuit)}\")\n",
    "\n",
    "        # print(f\"CIRCUIT: {circuit}\")\n",
    "\n",
    "        qudit_gates = {}\n",
    "\n",
    "        for i in range(1, 5):\n",
    "            qudit_i_gates = [g['gate'] for g in circuit if g['qudit'] == [f'qudit_{i}'] ]\n",
    "            qudit_gates[f'qudit_{i}'] = qudit_i_gates\n",
    "            print(f\"Qudit {i} gates({len(qudit_i_gates)}) : {qudit_i_gates}\")\n",
    "\n",
    "\n"
   ]
  },
  {
   "cell_type": "code",
   "execution_count": 4,
   "metadata": {},
   "outputs": [
    {
     "name": "stdout",
     "output_type": "stream",
     "text": [
      "Circuit length : 168\n",
      "Qudit 1 gates(42) : ['IGate', 'IGate', 'IGate', 'IGate', 'IGate', 'IGate', 'IGate', 'IGate', 'IGate', 'IGate', 'IGate', 'IGate', 'IGate', 'IGate', 'IGate', 'IGate', 'IGate', 'IGate', 'IGate', 'IGate', 'IGate', 'IGate', 'IGate', 'IGate', 'IGate', 'IGate', 'IGate', 'IGate', 'IGate', 'IGate', 'IGate', 'IGate', 'IGate', 'IGate', 'IGate', 'IGate', 'IGate', 'IGate', 'IGate', 'IGate', 'IGate', 'IGate']\n",
      "Qudit 2 gates(42) : ['RXGate', 'IGate', 'IGate', 'IGate', 'IGate', 'IGate', 'IGate', 'IGate', 'IGate', 'IGate', 'IGate', 'IGate', 'IGate', 'IGate', 'IGate', 'IGate', 'IGate', 'IGate', 'IGate', 'IGate', 'IGate', 'IGate', 'IGate', 'IGate', 'IGate', 'IGate', 'IGate', 'IGate', 'IGate', 'IGate', 'IGate', 'IGate', 'IGate', 'IGate', 'IGate', 'IGate', 'IGate', 'IGate', 'IGate', 'IGate', 'IGate', 'RXGate']\n",
      "Qudit 3 gates(42) : ['IGate', 'IGate', 'IGate', 'IGate', 'IGate', 'IGate', 'IGate', 'IGate', 'IGate', 'IGate', 'IGate', 'IGate', 'IGate', 'IGate', 'IGate', 'IGate', 'IGate', 'IGate', 'IGate', 'IGate', 'IGate', 'IGate', 'IGate', 'IGate', 'IGate', 'IGate', 'IGate', 'IGate', 'IGate', 'IGate', 'IGate', 'IGate', 'IGate', 'IGate', 'IGate', 'IGate', 'IGate', 'IGate', 'IGate', 'IGate', 'IGate', 'IGate']\n",
      "Qudit 4 gates(42) : ['IGate', 'IGate', 'IGate', 'IGate', 'IGate', 'IGate', 'IGate', 'IGate', 'IGate', 'IGate', 'IGate', 'IGate', 'IGate', 'IGate', 'IGate', 'IGate', 'IGate', 'IGate', 'IGate', 'IGate', 'IGate', 'IGate', 'IGate', 'IGate', 'IGate', 'IGate', 'IGate', 'IGate', 'IGate', 'IGate', 'IGate', 'IGate', 'IGate', 'IGate', 'IGate', 'IGate', 'IGate', 'IGate', 'IGate', 'IGate', 'IGate', 'IGate']\n"
     ]
    }
   ],
   "source": [
    "get_gates('free_evo.json')"
   ]
  },
  {
   "cell_type": "code",
   "execution_count": 5,
   "metadata": {},
   "outputs": [
    {
     "name": "stdout",
     "output_type": "stream",
     "text": [
      "Circuit length : 168\n",
      "Qudit 1 gates(42) : ['IGate', 'IGate', 'IGate', 'IGate', 'IGate', 'IGate', 'IGate', 'IGate', 'IGate', 'IGate', 'IGate', 'IGate', 'IGate', 'IGate', 'IGate', 'IGate', 'IGate', 'IGate', 'IGate', 'IGate', 'IGate', 'IGate', 'IGate', 'IGate', 'IGate', 'IGate', 'IGate', 'IGate', 'IGate', 'IGate', 'IGate', 'IGate', 'IGate', 'IGate', 'IGate', 'IGate', 'IGate', 'IGate', 'IGate', 'IGate', 'IGate', 'IGate']\n",
      "Qudit 2 gates(42) : ['RXGate', 'RXGate', 'RYGate', 'RXGate', 'RYGate', 'RXGate', 'RYGate', 'RXGate', 'RYGate', 'RXGate', 'RYGate', 'RXGate', 'RYGate', 'RXGate', 'RYGate', 'RXGate', 'RYGate', 'RXGate', 'RYGate', 'RXGate', 'RYGate', 'RXGate', 'RYGate', 'RXGate', 'RYGate', 'RXGate', 'RYGate', 'RXGate', 'RYGate', 'RXGate', 'RYGate', 'RXGate', 'RYGate', 'RXGate', 'RYGate', 'RXGate', 'RYGate', 'RXGate', 'RYGate', 'RXGate', 'RYGate', 'RXGate']\n",
      "Qudit 3 gates(42) : ['IGate', 'IGate', 'IGate', 'IGate', 'IGate', 'IGate', 'IGate', 'IGate', 'IGate', 'IGate', 'IGate', 'IGate', 'IGate', 'IGate', 'IGate', 'IGate', 'IGate', 'IGate', 'IGate', 'IGate', 'IGate', 'IGate', 'IGate', 'IGate', 'IGate', 'IGate', 'IGate', 'IGate', 'IGate', 'IGate', 'IGate', 'IGate', 'IGate', 'IGate', 'IGate', 'IGate', 'IGate', 'IGate', 'IGate', 'IGate', 'IGate', 'IGate']\n",
      "Qudit 4 gates(42) : ['IGate', 'IGate', 'IGate', 'IGate', 'IGate', 'IGate', 'IGate', 'IGate', 'IGate', 'IGate', 'IGate', 'IGate', 'IGate', 'IGate', 'IGate', 'IGate', 'IGate', 'IGate', 'IGate', 'IGate', 'IGate', 'IGate', 'IGate', 'IGate', 'IGate', 'IGate', 'IGate', 'IGate', 'IGate', 'IGate', 'IGate', 'IGate', 'IGate', 'IGate', 'IGate', 'IGate', 'IGate', 'IGate', 'IGate', 'IGate', 'IGate', 'IGate']\n"
     ]
    }
   ],
   "source": [
    "get_gates('dd_main.json')\n"
   ]
  },
  {
   "cell_type": "code",
   "execution_count": 6,
   "metadata": {},
   "outputs": [
    {
     "name": "stdout",
     "output_type": "stream",
     "text": [
      "Circuit length : 168\n",
      "Qudit 1 gates(42) : ['IGate', 'RXGate', 'RYGate', 'RXGate', 'RYGate', 'RXGate', 'RYGate', 'RXGate', 'RYGate', 'RXGate', 'RYGate', 'RXGate', 'RYGate', 'RXGate', 'RYGate', 'RXGate', 'RYGate', 'RXGate', 'RYGate', 'RXGate', 'RYGate', 'RXGate', 'RYGate', 'RXGate', 'RYGate', 'RXGate', 'RYGate', 'RXGate', 'RYGate', 'RXGate', 'RYGate', 'RXGate', 'RYGate', 'RXGate', 'RYGate', 'RXGate', 'RYGate', 'RXGate', 'RYGate', 'RXGate', 'RYGate', 'IGate']\n",
      "Qudit 2 gates(42) : ['RXGate', 'IGate', 'IGate', 'IGate', 'IGate', 'IGate', 'IGate', 'IGate', 'IGate', 'IGate', 'IGate', 'IGate', 'IGate', 'IGate', 'IGate', 'IGate', 'IGate', 'IGate', 'IGate', 'IGate', 'IGate', 'IGate', 'IGate', 'IGate', 'IGate', 'IGate', 'IGate', 'IGate', 'IGate', 'IGate', 'IGate', 'IGate', 'IGate', 'IGate', 'IGate', 'IGate', 'IGate', 'IGate', 'IGate', 'IGate', 'IGate', 'RXGate']\n",
      "Qudit 3 gates(42) : ['IGate', 'RXGate', 'RYGate', 'RXGate', 'RYGate', 'RXGate', 'RYGate', 'RXGate', 'RYGate', 'RXGate', 'RYGate', 'RXGate', 'RYGate', 'RXGate', 'RYGate', 'RXGate', 'RYGate', 'RXGate', 'RYGate', 'RXGate', 'RYGate', 'RXGate', 'RYGate', 'RXGate', 'RYGate', 'RXGate', 'RYGate', 'RXGate', 'RYGate', 'RXGate', 'RYGate', 'RXGate', 'RYGate', 'RXGate', 'RYGate', 'RXGate', 'RYGate', 'RXGate', 'RYGate', 'RXGate', 'RYGate', 'IGate']\n",
      "Qudit 4 gates(42) : ['IGate', 'RXGate', 'RYGate', 'RXGate', 'RYGate', 'RXGate', 'RYGate', 'RXGate', 'RYGate', 'RXGate', 'RYGate', 'RXGate', 'RYGate', 'RXGate', 'RYGate', 'RXGate', 'RYGate', 'RXGate', 'RYGate', 'RXGate', 'RYGate', 'RXGate', 'RYGate', 'RXGate', 'RYGate', 'RXGate', 'RYGate', 'RXGate', 'RYGate', 'RXGate', 'RYGate', 'RXGate', 'RYGate', 'RXGate', 'RYGate', 'RXGate', 'RYGate', 'RXGate', 'RYGate', 'RXGate', 'RYGate', 'IGate']\n"
     ]
    }
   ],
   "source": [
    "get_gates('dd_spectator.json')"
   ]
  },
  {
   "cell_type": "code",
   "execution_count": 7,
   "metadata": {},
   "outputs": [
    {
     "data": {
      "text/plain": [
       "{'duration': 30, 'qudit': ['qudit_2'], 'gate': 'IGate', 'pulse': {}}"
      ]
     },
     "execution_count": 7,
     "metadata": {},
     "output_type": "execute_result"
    }
   ],
   "source": [
    "def i_gate(q):\n",
    "     return {\n",
    "            \"duration\": 30,\n",
    "            \"qudit\": [\n",
    "                f\"qudit_{q}\"\n",
    "            ],\n",
    "            \"gate\": \"IGate\",\n",
    "            \"pulse\": {}\n",
    "        }\n",
    "i_gate(2)"
   ]
  },
  {
   "cell_type": "code",
   "execution_count": 8,
   "metadata": {},
   "outputs": [
    {
     "data": {
      "text/plain": [
       "{'duration': 30,\n",
       " 'theta': 1.5707963267948966,\n",
       " 'qudit': ['qudit_3'],\n",
       " 'gate': 'RXGate',\n",
       " 'pulse': {'x_drive': {'sigma': 7.5,\n",
       "   'amp': 0.03113830375988602,\n",
       "   'type': 'gaussian'}}}"
      ]
     },
     "execution_count": 8,
     "metadata": {},
     "output_type": "execute_result"
    }
   ],
   "source": [
    "import numpy as np\n",
    "\n",
    "def rx_gate(q, theta = np.pi):\n",
    "    return {\n",
    "            \"duration\": 30,\n",
    "            \"theta\": theta,\n",
    "            \"qudit\": [\n",
    "                f\"qudit_{q}\"\n",
    "            ],\n",
    "            \"gate\": \"RXGate\",\n",
    "            \"pulse\": {\n",
    "                \"x_drive\": {\n",
    "                    \"sigma\": 7.5,\n",
    "                    \"amp\": 0.03113830375988602,\n",
    "                    \"type\": \"gaussian\"\n",
    "                }\n",
    "            }\n",
    "        }\n",
    "\n",
    "rx_gate(3, np.pi/2)"
   ]
  },
  {
   "cell_type": "code",
   "execution_count": 9,
   "metadata": {},
   "outputs": [
    {
     "data": {
      "text/plain": [
       "{'duration': 30,\n",
       " 'theta': 3.141592653589793,\n",
       " 'qudit': ['qudit_2'],\n",
       " 'gate': 'RYGate',\n",
       " 'pulse': {'y_drive': {'sigma': 7.5,\n",
       "   'amp': 0.03113830375988602,\n",
       "   'type': 'gaussian'}}}"
      ]
     },
     "execution_count": 9,
     "metadata": {},
     "output_type": "execute_result"
    }
   ],
   "source": [
    "import numpy as np\n",
    "\n",
    "def ry_gate(q, theta = np.pi):\n",
    "    return {\n",
    "            \"duration\": 30,\n",
    "            \"theta\": theta,\n",
    "            \"qudit\": [\n",
    "                f\"qudit_{q}\"\n",
    "            ],\n",
    "            \"gate\": \"RYGate\",\n",
    "            \"pulse\": {\n",
    "                \"y_drive\": {\n",
    "                    \"sigma\": 7.5,\n",
    "                    \"amp\": 0.03113830375988602,\n",
    "                    \"type\": \"gaussian\"\n",
    "                }\n",
    "            }\n",
    "        }\n",
    "ry_gate(2)"
   ]
  },
  {
   "cell_type": "code",
   "execution_count": 10,
   "metadata": {},
   "outputs": [
    {
     "data": {
      "text/plain": [
       "{'duration': 30,\n",
       " 'theta': 3.141592653589793,\n",
       " 'qudit': ['qudit_2'],\n",
       " 'gate': 'RZGate',\n",
       " 'pulse': {'z_drive': {'sigma': 7.5,\n",
       "   'amp': 0.03113830375988602,\n",
       "   'type': 'gaussian'}}}"
      ]
     },
     "execution_count": 10,
     "metadata": {},
     "output_type": "execute_result"
    }
   ],
   "source": [
    "import numpy as np\n",
    "\n",
    "def rz_gate(q, theta = np.pi):\n",
    "    return {\n",
    "            \"duration\": 30,\n",
    "            \"theta\": theta,\n",
    "            \"qudit\": [\n",
    "                f\"qudit_{q}\"\n",
    "            ],\n",
    "            \"gate\": \"RZGate\",\n",
    "            \"pulse\": {\n",
    "                \"z_drive\": {\n",
    "                    \"sigma\": 7.5,\n",
    "                    \"amp\": 0.03113830375988602,\n",
    "                    \"type\": \"gaussian\"\n",
    "                }\n",
    "            }\n",
    "        }\n",
    "rz_gate(2)"
   ]
  },
  {
   "cell_type": "code",
   "execution_count": 11,
   "metadata": {},
   "outputs": [
    {
     "data": {
      "text/plain": [
       "[{'duration': 30, 'qudit': ['qudit_3'], 'gate': 'IGate', 'pulse': {}},\n",
       " {'duration': 30,\n",
       "  'theta': 3.141592653589793,\n",
       "  'qudit': ['qudit_2'],\n",
       "  'gate': 'RXGate',\n",
       "  'pulse': {'x_drive': {'sigma': 7.5,\n",
       "    'amp': 0.03113830375988602,\n",
       "    'type': 'gaussian'}}},\n",
       " {'duration': 30,\n",
       "  'theta': 3.141592653589793,\n",
       "  'qudit': ['qudit_4'],\n",
       "  'gate': 'RYGate',\n",
       "  'pulse': {'y_drive': {'sigma': 7.5,\n",
       "    'amp': 0.03113830375988602,\n",
       "    'type': 'gaussian'}}},\n",
       " {'duration': 30,\n",
       "  'theta': 3.141592653589793,\n",
       "  'qudit': ['qudit_4'],\n",
       "  'gate': 'RZGate',\n",
       "  'pulse': {'z_drive': {'sigma': 7.5,\n",
       "    'amp': 0.03113830375988602,\n",
       "    'type': 'gaussian'}}}]"
      ]
     },
     "execution_count": 11,
     "metadata": {},
     "output_type": "execute_result"
    }
   ],
   "source": [
    "circuit = [\n",
    "    i_gate(3),\n",
    "    rx_gate(2),\n",
    "    ry_gate(4),\n",
    "    rz_gate(4),\n",
    "]\n",
    "\n",
    "circuit"
   ]
  },
  {
   "cell_type": "code",
   "execution_count": 12,
   "metadata": {},
   "outputs": [],
   "source": [
    "import json\n",
    "with open(f\"free_evo.json\") as json_file:\n",
    "    data = json.load(json_file)\n",
    "    data['circuit'] = circuit\n",
    "\n",
    "    with open('try.json', 'w') as convert_file: \n",
    "        convert_file.write(json.dumps(data, indent=4, default=str))"
   ]
  },
  {
   "cell_type": "code",
   "execution_count": 13,
   "metadata": {},
   "outputs": [
    {
     "data": {
      "text/plain": [
       "3.141592653589793"
      ]
     },
     "execution_count": 13,
     "metadata": {},
     "output_type": "execute_result"
    }
   ],
   "source": [
    "from numpy import pi as pi\n",
    "\n",
    "pi"
   ]
  },
  {
   "cell_type": "code",
   "execution_count": 14,
   "metadata": {},
   "outputs": [],
   "source": [
    "def Ix(theta):\n",
    "    return rx_gate(2, theta)\n",
    "\n",
    "def Sx(theta):\n",
    "    return rx_gate(4, theta)\n",
    "\n",
    "def Iy(theta):\n",
    "    return ry_gate(2, theta)\n",
    "\n",
    "def Sy(theta):\n",
    "    return ry_gate(4, theta)\n",
    "\n",
    "def Iz(theta):\n",
    "    return rz_gate(2, theta)\n",
    "\n",
    "def Sz(theta):\n",
    "    return rz_gate(4, theta)"
   ]
  },
  {
   "cell_type": "code",
   "execution_count": 15,
   "metadata": {},
   "outputs": [
    {
     "data": {
      "text/plain": [
       "[{'duration': 30,\n",
       "  'theta': 3.141592653589793,\n",
       "  'qudit': ['qudit_2'],\n",
       "  'gate': 'RXGate',\n",
       "  'pulse': {'x_drive': {'sigma': 7.5,\n",
       "    'amp': 0.03113830375988602,\n",
       "    'type': 'gaussian'}}},\n",
       " {'duration': 30,\n",
       "  'theta': 3.141592653589793,\n",
       "  'qudit': ['qudit_4'],\n",
       "  'gate': 'RXGate',\n",
       "  'pulse': {'x_drive': {'sigma': 7.5,\n",
       "    'amp': 0.03113830375988602,\n",
       "    'type': 'gaussian'}}}]"
      ]
     },
     "execution_count": 15,
     "metadata": {},
     "output_type": "execute_result"
    }
   ],
   "source": [
    "[ Ix(+pi) , Sx(+pi)]\n"
   ]
  },
  {
   "cell_type": "code",
   "execution_count": 16,
   "metadata": {},
   "outputs": [],
   "source": [
    "grover_iter = [ Iz(+pi) , Sz(+pi) , Sy(-pi/2) , Sx(+pi/2) , Sy(+pi/2) , Iy(-pi/2) , Ix(+pi/2) , Iy(+pi/2) , Iy(+pi/2) , Ix(+pi/2) , Ix(+pi/2) , Sy(+pi/2) , Sx(+pi/2) , Sx(+pi/2) , Iz(+pi) , Sz(+pi) , Sy(-pi/2) , Sx(-pi/2) , Sy(+pi/2) , Iy(-pi/2) , Ix(-pi/2) , Iy(+pi/2) , Iy(+pi/2) , Ix(+pi/2) , Ix(+pi/2) , Sy(+pi/2) , Sx(+pi/2) , Sx(+pi/2)]"
   ]
  },
  {
   "cell_type": "code",
   "execution_count": 17,
   "metadata": {},
   "outputs": [],
   "source": [
    "hh = [ Iy(+pi/2) , Ix(+pi/2) , Ix(+pi/2) , Sy(+pi/2) , Sx(+pi/2) , Sx(+pi/2)]"
   ]
  },
  {
   "cell_type": "code",
   "execution_count": 18,
   "metadata": {},
   "outputs": [],
   "source": [
    "def dd(q):\n",
    "    return [ rx_gate(q, +pi) , ry_gate(q, +pi)]*2"
   ]
  },
  {
   "cell_type": "code",
   "execution_count": 19,
   "metadata": {},
   "outputs": [],
   "source": [
    "import json\n",
    "with open(f\"free_evo.json\") as json_file:\n",
    "    data = json.load(json_file)\n",
    "    data['circuit'] = grover_iter\n",
    "\n",
    "    with open('grover.json', 'w') as convert_file: \n",
    "        convert_file.write(json.dumps(data, indent=4, default=str))"
   ]
  },
  {
   "cell_type": "code",
   "execution_count": 20,
   "metadata": {},
   "outputs": [],
   "source": [
    "import json\n",
    "\n",
    "NUM_ITER = 10\n",
    "with open(f\"free_evo.json\") as json_file:\n",
    "    data = json.load(json_file)\n",
    "    grover_ckt = hh # 6(3)\n",
    "\n",
    "    for _ in range(NUM_ITER):\n",
    "        grover_ckt.extend(grover_iter) # 28(14)\n",
    "\n",
    "    g_count = len(grover_ckt) // 2\n",
    "    i_count = 4 - (g_count % 4)\n",
    "\n",
    "    grover_ckt.extend([i_gate(2)]*i_count)\n",
    "    grover_ckt.extend([i_gate(4)]*i_count)\n",
    "\n",
    "    dd_count = len(grover_ckt) // 8\n",
    "    grover_ckt.extend([i_gate(1)]*dd_count*4)\n",
    "    grover_ckt.extend([i_gate(3)]*dd_count*4)\n",
    "\n",
    "    # print(grover_ckt)\n",
    "\n",
    "\n",
    "    data['circuit'] = grover_ckt\n",
    "\n",
    "    with open(f'grover_free_{NUM_ITER}.json', 'w') as convert_file: \n",
    "        convert_file.write(json.dumps(data, indent=4, default=str))"
   ]
  },
  {
   "cell_type": "code",
   "execution_count": 21,
   "metadata": {},
   "outputs": [
    {
     "name": "stdout",
     "output_type": "stream",
     "text": [
      "Circuit length : 576\n",
      "Qudit 1 gates(144) : ['IGate', 'IGate', 'IGate', 'IGate', 'IGate', 'IGate', 'IGate', 'IGate', 'IGate', 'IGate', 'IGate', 'IGate', 'IGate', 'IGate', 'IGate', 'IGate', 'IGate', 'IGate', 'IGate', 'IGate', 'IGate', 'IGate', 'IGate', 'IGate', 'IGate', 'IGate', 'IGate', 'IGate', 'IGate', 'IGate', 'IGate', 'IGate', 'IGate', 'IGate', 'IGate', 'IGate', 'IGate', 'IGate', 'IGate', 'IGate', 'IGate', 'IGate', 'IGate', 'IGate', 'IGate', 'IGate', 'IGate', 'IGate', 'IGate', 'IGate', 'IGate', 'IGate', 'IGate', 'IGate', 'IGate', 'IGate', 'IGate', 'IGate', 'IGate', 'IGate', 'IGate', 'IGate', 'IGate', 'IGate', 'IGate', 'IGate', 'IGate', 'IGate', 'IGate', 'IGate', 'IGate', 'IGate', 'IGate', 'IGate', 'IGate', 'IGate', 'IGate', 'IGate', 'IGate', 'IGate', 'IGate', 'IGate', 'IGate', 'IGate', 'IGate', 'IGate', 'IGate', 'IGate', 'IGate', 'IGate', 'IGate', 'IGate', 'IGate', 'IGate', 'IGate', 'IGate', 'IGate', 'IGate', 'IGate', 'IGate', 'IGate', 'IGate', 'IGate', 'IGate', 'IGate', 'IGate', 'IGate', 'IGate', 'IGate', 'IGate', 'IGate', 'IGate', 'IGate', 'IGate', 'IGate', 'IGate', 'IGate', 'IGate', 'IGate', 'IGate', 'IGate', 'IGate', 'IGate', 'IGate', 'IGate', 'IGate', 'IGate', 'IGate', 'IGate', 'IGate', 'IGate', 'IGate', 'IGate', 'IGate', 'IGate', 'IGate', 'IGate', 'IGate', 'IGate', 'IGate', 'IGate', 'IGate', 'IGate', 'IGate']\n",
      "Qudit 2 gates(144) : ['RYGate', 'RXGate', 'RXGate', 'RZGate', 'RYGate', 'RXGate', 'RYGate', 'RYGate', 'RXGate', 'RXGate', 'RZGate', 'RYGate', 'RXGate', 'RYGate', 'RYGate', 'RXGate', 'RXGate', 'RZGate', 'RYGate', 'RXGate', 'RYGate', 'RYGate', 'RXGate', 'RXGate', 'RZGate', 'RYGate', 'RXGate', 'RYGate', 'RYGate', 'RXGate', 'RXGate', 'RZGate', 'RYGate', 'RXGate', 'RYGate', 'RYGate', 'RXGate', 'RXGate', 'RZGate', 'RYGate', 'RXGate', 'RYGate', 'RYGate', 'RXGate', 'RXGate', 'RZGate', 'RYGate', 'RXGate', 'RYGate', 'RYGate', 'RXGate', 'RXGate', 'RZGate', 'RYGate', 'RXGate', 'RYGate', 'RYGate', 'RXGate', 'RXGate', 'RZGate', 'RYGate', 'RXGate', 'RYGate', 'RYGate', 'RXGate', 'RXGate', 'RZGate', 'RYGate', 'RXGate', 'RYGate', 'RYGate', 'RXGate', 'RXGate', 'RZGate', 'RYGate', 'RXGate', 'RYGate', 'RYGate', 'RXGate', 'RXGate', 'RZGate', 'RYGate', 'RXGate', 'RYGate', 'RYGate', 'RXGate', 'RXGate', 'RZGate', 'RYGate', 'RXGate', 'RYGate', 'RYGate', 'RXGate', 'RXGate', 'RZGate', 'RYGate', 'RXGate', 'RYGate', 'RYGate', 'RXGate', 'RXGate', 'RZGate', 'RYGate', 'RXGate', 'RYGate', 'RYGate', 'RXGate', 'RXGate', 'RZGate', 'RYGate', 'RXGate', 'RYGate', 'RYGate', 'RXGate', 'RXGate', 'RZGate', 'RYGate', 'RXGate', 'RYGate', 'RYGate', 'RXGate', 'RXGate', 'RZGate', 'RYGate', 'RXGate', 'RYGate', 'RYGate', 'RXGate', 'RXGate', 'RZGate', 'RYGate', 'RXGate', 'RYGate', 'RYGate', 'RXGate', 'RXGate', 'RZGate', 'RYGate', 'RXGate', 'RYGate', 'RYGate', 'RXGate', 'RXGate', 'IGate']\n",
      "Qudit 3 gates(144) : ['IGate', 'IGate', 'IGate', 'IGate', 'IGate', 'IGate', 'IGate', 'IGate', 'IGate', 'IGate', 'IGate', 'IGate', 'IGate', 'IGate', 'IGate', 'IGate', 'IGate', 'IGate', 'IGate', 'IGate', 'IGate', 'IGate', 'IGate', 'IGate', 'IGate', 'IGate', 'IGate', 'IGate', 'IGate', 'IGate', 'IGate', 'IGate', 'IGate', 'IGate', 'IGate', 'IGate', 'IGate', 'IGate', 'IGate', 'IGate', 'IGate', 'IGate', 'IGate', 'IGate', 'IGate', 'IGate', 'IGate', 'IGate', 'IGate', 'IGate', 'IGate', 'IGate', 'IGate', 'IGate', 'IGate', 'IGate', 'IGate', 'IGate', 'IGate', 'IGate', 'IGate', 'IGate', 'IGate', 'IGate', 'IGate', 'IGate', 'IGate', 'IGate', 'IGate', 'IGate', 'IGate', 'IGate', 'IGate', 'IGate', 'IGate', 'IGate', 'IGate', 'IGate', 'IGate', 'IGate', 'IGate', 'IGate', 'IGate', 'IGate', 'IGate', 'IGate', 'IGate', 'IGate', 'IGate', 'IGate', 'IGate', 'IGate', 'IGate', 'IGate', 'IGate', 'IGate', 'IGate', 'IGate', 'IGate', 'IGate', 'IGate', 'IGate', 'IGate', 'IGate', 'IGate', 'IGate', 'IGate', 'IGate', 'IGate', 'IGate', 'IGate', 'IGate', 'IGate', 'IGate', 'IGate', 'IGate', 'IGate', 'IGate', 'IGate', 'IGate', 'IGate', 'IGate', 'IGate', 'IGate', 'IGate', 'IGate', 'IGate', 'IGate', 'IGate', 'IGate', 'IGate', 'IGate', 'IGate', 'IGate', 'IGate', 'IGate', 'IGate', 'IGate', 'IGate', 'IGate', 'IGate', 'IGate', 'IGate', 'IGate']\n",
      "Qudit 4 gates(144) : ['RYGate', 'RXGate', 'RXGate', 'RZGate', 'RYGate', 'RXGate', 'RYGate', 'RYGate', 'RXGate', 'RXGate', 'RZGate', 'RYGate', 'RXGate', 'RYGate', 'RYGate', 'RXGate', 'RXGate', 'RZGate', 'RYGate', 'RXGate', 'RYGate', 'RYGate', 'RXGate', 'RXGate', 'RZGate', 'RYGate', 'RXGate', 'RYGate', 'RYGate', 'RXGate', 'RXGate', 'RZGate', 'RYGate', 'RXGate', 'RYGate', 'RYGate', 'RXGate', 'RXGate', 'RZGate', 'RYGate', 'RXGate', 'RYGate', 'RYGate', 'RXGate', 'RXGate', 'RZGate', 'RYGate', 'RXGate', 'RYGate', 'RYGate', 'RXGate', 'RXGate', 'RZGate', 'RYGate', 'RXGate', 'RYGate', 'RYGate', 'RXGate', 'RXGate', 'RZGate', 'RYGate', 'RXGate', 'RYGate', 'RYGate', 'RXGate', 'RXGate', 'RZGate', 'RYGate', 'RXGate', 'RYGate', 'RYGate', 'RXGate', 'RXGate', 'RZGate', 'RYGate', 'RXGate', 'RYGate', 'RYGate', 'RXGate', 'RXGate', 'RZGate', 'RYGate', 'RXGate', 'RYGate', 'RYGate', 'RXGate', 'RXGate', 'RZGate', 'RYGate', 'RXGate', 'RYGate', 'RYGate', 'RXGate', 'RXGate', 'RZGate', 'RYGate', 'RXGate', 'RYGate', 'RYGate', 'RXGate', 'RXGate', 'RZGate', 'RYGate', 'RXGate', 'RYGate', 'RYGate', 'RXGate', 'RXGate', 'RZGate', 'RYGate', 'RXGate', 'RYGate', 'RYGate', 'RXGate', 'RXGate', 'RZGate', 'RYGate', 'RXGate', 'RYGate', 'RYGate', 'RXGate', 'RXGate', 'RZGate', 'RYGate', 'RXGate', 'RYGate', 'RYGate', 'RXGate', 'RXGate', 'RZGate', 'RYGate', 'RXGate', 'RYGate', 'RYGate', 'RXGate', 'RXGate', 'RZGate', 'RYGate', 'RXGate', 'RYGate', 'RYGate', 'RXGate', 'RXGate', 'IGate']\n"
     ]
    }
   ],
   "source": [
    "get_gates('grover_free_10.json')\n"
   ]
  },
  {
   "cell_type": "code",
   "execution_count": null,
   "metadata": {},
   "outputs": [],
   "source": [
    "get_gates('grover_7.json')\n"
   ]
  },
  {
   "cell_type": "code",
   "execution_count": null,
   "metadata": {},
   "outputs": [],
   "source": [
    "get_gates('dd_spectator.json')\n"
   ]
  },
  {
   "cell_type": "code",
   "execution_count": null,
   "metadata": {},
   "outputs": [],
   "source": [
    "a = []\n",
    "a.extend([dd(1)]*2)\n",
    "a"
   ]
  },
  {
   "cell_type": "code",
   "execution_count": null,
   "metadata": {},
   "outputs": [],
   "source": []
  }
 ],
 "metadata": {
  "kernelspec": {
   "display_name": "scqubit-env",
   "language": "python",
   "name": "python3"
  },
  "language_info": {
   "codemirror_mode": {
    "name": "ipython",
    "version": 3
   },
   "file_extension": ".py",
   "mimetype": "text/x-python",
   "name": "python",
   "nbconvert_exporter": "python",
   "pygments_lexer": "ipython3",
   "version": "3.9.18"
  }
 },
 "nbformat": 4,
 "nbformat_minor": 2
}
