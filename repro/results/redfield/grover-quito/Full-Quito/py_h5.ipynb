{
  "cells": [
    {
      "cell_type": "code",
      "execution_count": 4,
      "id": "a3fbe91d-3a7c-4fa2-bbf3-7e30ee0d4de6",
      "metadata": {
        "id": "a3fbe91d-3a7c-4fa2-bbf3-7e30ee0d4de6"
      },
      "outputs": [],
      "source": [
        "import h5py\n",
        "import numpy as np\n",
        "from qiskit.quantum_info import partial_trace\n",
        "import matplotlib.pyplot as plt"
      ]
    },
    {
      "cell_type": "code",
      "execution_count": 5,
      "id": "89a2b271",
      "metadata": {},
      "outputs": [
        {
          "data": {
            "text/plain": [
              "array([[1, 0, 0, 0],\n",
              "       [0, 0, 0, 0],\n",
              "       [0, 0, 0, 0],\n",
              "       [0, 0, 0, 0]])"
            ]
          },
          "execution_count": 5,
          "metadata": {},
          "output_type": "execute_result"
        }
      ],
      "source": [
        "# create |00><00| operator\n",
        "v = np.array([1, 0, 0, 0])\n",
        "op = np.outer(v, v.conj())\n",
        "op"
      ]
    },
    {
      "cell_type": "code",
      "execution_count": 6,
      "id": "00a2cfb4-24e3-4794-89e7-1f1b9211d626",
      "metadata": {
        "id": "00a2cfb4-24e3-4794-89e7-1f1b9211d626"
      },
      "outputs": [
        {
          "name": "stdout",
          "output_type": "stream",
          "text": [
            "[  30.  150.  270.  390.  510.  630.  750.  870.  990. 1110. 1230. 1260.\n",
            " 4320.]\n"
          ]
        }
      ],
      "source": [
        "fidilities = []\n",
        "\n",
        "f = h5py.File(f'free_10.h5','r')\n",
        "# load the time points from the h5 file\n",
        "tp = np.array(f['QERes/t'])\n",
        "# # load the density matrices from the h5 file\n",
        "# rho = np.array(f['QERes/states'])\n",
        "# # use partial_trace to get the reduced density matrix of the 2nd qubit\n",
        "# fp=partial_trace(rho[-1,:,:], [0, 2]).expectation_value(op).real\n",
        "# fidilities.append(fp)\n",
        "print(tp)\n",
        "f.close()"
      ]
    },
    {
      "cell_type": "code",
      "execution_count": 7,
      "id": "30e9f4ab",
      "metadata": {},
      "outputs": [
        {
          "ename": "NameError",
          "evalue": "name 'ITER_SET' is not defined",
          "output_type": "error",
          "traceback": [
            "\u001b[1;31m---------------------------------------------------------------------------\u001b[0m",
            "\u001b[1;31mNameError\u001b[0m                                 Traceback (most recent call last)",
            "Cell \u001b[1;32mIn[7], line 3\u001b[0m\n\u001b[0;32m      1\u001b[0m fidilities_free \u001b[38;5;241m=\u001b[39m []\n\u001b[0;32m      2\u001b[0m \u001b[38;5;66;03m# ITER_SET2 = [1, 4]\u001b[39;00m\n\u001b[1;32m----> 3\u001b[0m \u001b[38;5;28;01mfor\u001b[39;00m i \u001b[38;5;129;01min\u001b[39;00m \u001b[43mITER_SET\u001b[49m:\n\u001b[0;32m      4\u001b[0m     f \u001b[38;5;241m=\u001b[39m h5py\u001b[38;5;241m.\u001b[39mFile(\u001b[38;5;124mf\u001b[39m\u001b[38;5;124m'\u001b[39m\u001b[38;5;124mgrover_\u001b[39m\u001b[38;5;132;01m{\u001b[39;00mi\u001b[38;5;132;01m}\u001b[39;00m\u001b[38;5;124m.h5\u001b[39m\u001b[38;5;124m'\u001b[39m,\u001b[38;5;124m'\u001b[39m\u001b[38;5;124mr\u001b[39m\u001b[38;5;124m'\u001b[39m)\n\u001b[0;32m      5\u001b[0m     \u001b[38;5;66;03m# load the time points from the h5 file\u001b[39;00m\n",
            "\u001b[1;31mNameError\u001b[0m: name 'ITER_SET' is not defined"
          ]
        }
      ],
      "source": [
        "fidilities_free = []\n",
        "# ITER_SET2 = [1, 4]\n",
        "for i in ITER_SET:\n",
        "    f = h5py.File(f'grover_{i}.h5','r')\n",
        "    # load the time points from the h5 file\n",
        "    tp = np.array(f['QERes/t'])\n",
        "    # load the density matrices from the h5 file\n",
        "    rho = np.array(f['QERes/states'])\n",
        "    # use partial_trace to get the reduced density matrix of the 2nd qubit\n",
        "    fp=partial_trace(rho[-1,:,:], [0, 2]).expectation_value(op).real\n",
        "    fidilities_free.append(fp)\n",
        "    f.close()"
      ]
    },
    {
      "cell_type": "code",
      "execution_count": null,
      "id": "b2732615",
      "metadata": {},
      "outputs": [],
      "source": [
        "fidilities"
      ]
    },
    {
      "cell_type": "code",
      "execution_count": null,
      "id": "c9786879",
      "metadata": {},
      "outputs": [],
      "source": [
        "fidilities_free"
      ]
    },
    {
      "cell_type": "code",
      "execution_count": null,
      "id": "445f3062-8c38-45ec-9f39-487c85f2f08a",
      "metadata": {
        "id": "445f3062-8c38-45ec-9f39-487c85f2f08a",
        "outputId": "60c51cfc-52a5-49f4-b9d8-b1a7ae2a61a7"
      },
      "outputs": [],
      "source": [
        "fig, ax = plt.subplots()\n",
        "ax.scatter(ITER_SET, fidilities_free, label=\"Free\")\n",
        "ax.scatter(ITER_SET, fidilities, label=\"DD Spectator\")\n",
        "\n",
        "ax.set_xlabel('Number of Iterations')\n",
        "ax.set_ylabel('Fidility of |11>')\n",
        "ax.legend()\n",
        "plt.show()"
      ]
    },
    {
      "cell_type": "code",
      "execution_count": null,
      "id": "4aa82a1e",
      "metadata": {},
      "outputs": [],
      "source": []
    }
  ],
  "metadata": {
    "colab": {
      "provenance": []
    },
    "kernelspec": {
      "display_name": "qiskit-env",
      "language": "python",
      "name": "python3"
    },
    "language_info": {
      "codemirror_mode": {
        "name": "ipython",
        "version": 3
      },
      "file_extension": ".py",
      "mimetype": "text/x-python",
      "name": "python",
      "nbconvert_exporter": "python",
      "pygments_lexer": "ipython3",
      "version": "3.9.18"
    }
  },
  "nbformat": 4,
  "nbformat_minor": 5
}
