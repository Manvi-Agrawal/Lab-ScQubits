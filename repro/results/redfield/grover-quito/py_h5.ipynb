{
  "cells": [
    {
      "cell_type": "code",
      "execution_count": 1,
      "id": "a3fbe91d-3a7c-4fa2-bbf3-7e30ee0d4de6",
      "metadata": {
        "id": "a3fbe91d-3a7c-4fa2-bbf3-7e30ee0d4de6"
      },
      "outputs": [],
      "source": [
        "import h5py\n",
        "import numpy as np\n",
        "from qiskit.quantum_info import partial_trace\n",
        "import matplotlib.pyplot as plt"
      ]
    },
    {
      "cell_type": "code",
      "execution_count": 2,
      "id": "89a2b271",
      "metadata": {},
      "outputs": [
        {
          "data": {
            "text/plain": [
              "array([[1, 0, 0, 0],\n",
              "       [0, 0, 0, 0],\n",
              "       [0, 0, 0, 0],\n",
              "       [0, 0, 0, 0]])"
            ]
          },
          "execution_count": 2,
          "metadata": {},
          "output_type": "execute_result"
        }
      ],
      "source": [
        "# create |00><00| operator\n",
        "v = np.array([1, 0, 0, 0])\n",
        "op = np.outer(v, v.conj())\n",
        "op"
      ]
    },
    {
      "cell_type": "code",
      "execution_count": 3,
      "id": "00a2cfb4-24e3-4794-89e7-1f1b9211d626",
      "metadata": {
        "id": "00a2cfb4-24e3-4794-89e7-1f1b9211d626"
      },
      "outputs": [],
      "source": [
        "fidilities = []\n",
        "ITER_SET = [1, 4, 7, 10]\n",
        "for i in ITER_SET:\n",
        "    f = h5py.File(f'grover_{i}.h5','r')\n",
        "    # load the time points from the h5 file\n",
        "    tp = np.array(f['QERes/t'])\n",
        "    # load the density matrices from the h5 file\n",
        "    rho = np.array(f['QERes/states'])\n",
        "    # use partial_trace to get the reduced density matrix of the 2nd qubit\n",
        "    fp=partial_trace(rho[-1,:,:], [0, 2]).expectation_value(op).real\n",
        "    fidilities.append(fp)\n",
        "    f.close()"
      ]
    },
    {
      "cell_type": "code",
      "execution_count": 4,
      "id": "30e9f4ab",
      "metadata": {},
      "outputs": [],
      "source": [
        "fidilities_free = []\n",
        "# ITER_SET2 = [1, 4]\n",
        "for i in ITER_SET:\n",
        "    f = h5py.File(f'grover_{i}.h5','r')\n",
        "    # load the time points from the h5 file\n",
        "    tp = np.array(f['QERes/t'])\n",
        "    # load the density matrices from the h5 file\n",
        "    rho = np.array(f['QERes/states'])\n",
        "    # use partial_trace to get the reduced density matrix of the 2nd qubit\n",
        "    fp=partial_trace(rho[-1,:,:], [0, 2]).expectation_value(op).real\n",
        "    fidilities_free.append(fp)\n",
        "    f.close()"
      ]
    },
    {
      "cell_type": "code",
      "execution_count": 5,
      "id": "b2732615",
      "metadata": {},
      "outputs": [
        {
          "data": {
            "text/plain": [
              "[0.8198749480909621,\n",
              " 0.5874050765540633,\n",
              " 0.31935327404646985,\n",
              " 0.36891488137220774]"
            ]
          },
          "execution_count": 5,
          "metadata": {},
          "output_type": "execute_result"
        }
      ],
      "source": [
        "fidilities"
      ]
    },
    {
      "cell_type": "code",
      "execution_count": 6,
      "id": "c9786879",
      "metadata": {},
      "outputs": [
        {
          "data": {
            "text/plain": [
              "[0.8198749480909621,\n",
              " 0.5874050765540633,\n",
              " 0.31935327404646985,\n",
              " 0.36891488137220774]"
            ]
          },
          "execution_count": 6,
          "metadata": {},
          "output_type": "execute_result"
        }
      ],
      "source": [
        "fidilities_free"
      ]
    },
    {
      "cell_type": "code",
      "execution_count": 7,
      "id": "445f3062-8c38-45ec-9f39-487c85f2f08a",
      "metadata": {
        "id": "445f3062-8c38-45ec-9f39-487c85f2f08a",
        "outputId": "60c51cfc-52a5-49f4-b9d8-b1a7ae2a61a7"
      },
      "outputs": [
        {
          "data": {
            "image/png": "[encoded data removed]",
            "text/plain": [
              "<Figure size 640x480 with 1 Axes>"
            ]
          },
          "metadata": {},
          "output_type": "display_data"
        }
      ],
      "source": [
        "fig, ax = plt.subplots()\n",
        "ax.scatter(ITER_SET, fidilities_free, label=\"Free\")\n",
        "ax.scatter(ITER_SET, fidilities, label=\"DD Spectator\")\n",
        "\n",
        "ax.set_xlabel('Number of Iterations')\n",
        "ax.set_ylabel('Fidility of |11>')\n",
        "ax.legend()\n",
        "plt.show()"
      ]
    },
    {
      "cell_type": "code",
      "execution_count": null,
      "id": "4aa82a1e",
      "metadata": {},
      "outputs": [],
      "source": []
    }
  ],
  "metadata": {
    "colab": {
      "provenance": []
    },
    "kernelspec": {
      "display_name": "qiskit-env",
      "language": "python",
      "name": "python3"
    },
    "language_info": {
      "codemirror_mode": {
        "name": "ipython",
        "version": 3
      },
      "file_extension": ".py",
      "mimetype": "text/x-python",
      "name": "python",
      "nbconvert_exporter": "python",
      "pygments_lexer": "ipython3",
      "version": "3.9.18"
    }
  },
  "nbformat": 4,
  "nbformat_minor": 5
}
