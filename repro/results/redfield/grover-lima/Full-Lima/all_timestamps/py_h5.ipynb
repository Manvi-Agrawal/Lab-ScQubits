{
  "cells": [
    {
      "cell_type": "code",
      "execution_count": 1,
      "id": "a3fbe91d-3a7c-4fa2-bbf3-7e30ee0d4de6",
      "metadata": {
        "id": "a3fbe91d-3a7c-4fa2-bbf3-7e30ee0d4de6"
      },
      "outputs": [],
      "source": [
        "import h5py\n",
        "import numpy as np\n",
        "from qiskit.quantum_info import partial_trace\n",
        "import matplotlib.pyplot as plt"
      ]
    },
    {
      "cell_type": "code",
      "execution_count": 2,
      "id": "89a2b271",
      "metadata": {},
      "outputs": [
        {
          "data": {
            "text/plain": [
              "array([[1, 0, 0, 0],\n",
              "       [0, 0, 0, 0],\n",
              "       [0, 0, 0, 0],\n",
              "       [0, 0, 0, 0]])"
            ]
          },
          "execution_count": 2,
          "metadata": {},
          "output_type": "execute_result"
        }
      ],
      "source": [
        "# create |00><00| operator\n",
        "v = np.array([1, 0, 0, 0])\n",
        "op = np.outer(v, v.conj())\n",
        "op"
      ]
    },
    {
      "cell_type": "code",
      "execution_count": 3,
      "id": "00a2cfb4-24e3-4794-89e7-1f1b9211d626",
      "metadata": {
        "id": "00a2cfb4-24e3-4794-89e7-1f1b9211d626"
      },
      "outputs": [
        {
          "name": "stdout",
          "output_type": "stream",
          "text": [
            "4\n",
            "[510.0, 1770.0, 3030.0, 4290.0]\n"
          ]
        }
      ],
      "source": [
        "# fidilities = []\n",
        "ITER_SET = [1, 4, 7, 10]\n",
        "\n",
        "f = h5py.File(f'free_10.h5','r')\n",
        "\n",
        "# load the time points from the h5 file\n",
        "_tp = np.array(f['QERes/t'])\n",
        "\n",
        "tp_free = [ _tp[2 + iter*14] for iter in ITER_SET]\n",
        "\n",
        "print(len(tp_free))\n",
        "print(tp_free)\n",
        "\n",
        "\n",
        "# load the density matrices from the h5 file\n",
        "rho_dd = np.array(f['QERes/states'])\n",
        "\n",
        "# print(rho.shape)\n",
        "\n",
        "\n",
        "fidilities_free = [partial_trace(rho_dd[2 + iter*14,:,:], [0, 2, 4]).expectation_value(op).real for iter in ITER_SET]\n",
        "# # fidilities.append(fp)\n",
        "# print(fidilities_free)\n",
        "f.close()"
      ]
    },
    {
      "cell_type": "code",
      "execution_count": 6,
      "id": "e1a2e871",
      "metadata": {},
      "outputs": [
        {
          "name": "stdout",
          "output_type": "stream",
          "text": [
            "[0.016121508747231037, 0.10690545445502342, 0.13313064394440827, 0.17300143717506009]\n"
          ]
        }
      ],
      "source": [
        "print(fidilities_free)\n"
      ]
    },
    {
      "cell_type": "code",
      "execution_count": 4,
      "id": "0c37ebe2",
      "metadata": {},
      "outputs": [],
      "source": [
        "# ITER_SET = [1, 4, 7, 10]\n",
        "# t = [3*30 + iter*14*30 for iter in ITER_SET]\n",
        "# t # [510, 1770, 3030, 4290]"
      ]
    },
    {
      "cell_type": "code",
      "execution_count": 5,
      "id": "60b9930d",
      "metadata": {},
      "outputs": [
        {
          "name": "stdout",
          "output_type": "stream",
          "text": [
            "4\n",
            "[510.0, 1770.0, 3030.0, 4290.0]\n",
            "[0.01867883345549721, 0.12400655242154716, 0.14600989911479512, 0.18267980493957045]\n"
          ]
        }
      ],
      "source": [
        "ITER_SET = [1, 4, 7, 10]\n",
        "\n",
        "f = h5py.File(f'dd_spec_10.h5','r')\n",
        "\n",
        "# load the time points from the h5 file\n",
        "_tp_dd = np.array(f['QERes/t'])\n",
        "tp_dd = [ _tp_dd[2 + iter*14] for iter in ITER_SET]\n",
        "\n",
        "print(len(tp_dd))\n",
        "print(tp_dd)\n",
        "\n",
        "\n",
        "# load the density matrices from the h5 file\n",
        "rho_dd = np.array(f['QERes/states'])\n",
        "\n",
        "# print(rho.shape)\n",
        "\n",
        "fidilities_dd = [partial_trace(rho_dd[2 + iter*14,:,:], [0, 2, 4]).expectation_value(op).real for iter in ITER_SET]\n",
        "\n",
        "# fidilities.append(fp)\n",
        "print(fidilities_dd)\n",
        "f.close()"
      ]
    },
    {
      "cell_type": "code",
      "execution_count": 8,
      "id": "445f3062-8c38-45ec-9f39-487c85f2f08a",
      "metadata": {
        "id": "445f3062-8c38-45ec-9f39-487c85f2f08a",
        "outputId": "60c51cfc-52a5-49f4-b9d8-b1a7ae2a61a7"
      },
      "outputs": [
        {
          "data": {
            "image/png": "[encoded data removed]",
            "text/plain": [
              "<Figure size 640x480 with 1 Axes>"
            ]
          },
          "metadata": {},
          "output_type": "display_data"
        }
      ],
      "source": [
        "fig, ax = plt.subplots()\n",
        "ax.scatter(ITER_SET, fidilities_free, label=\"Free\")\n",
        "ax.scatter(ITER_SET, fidilities_dd, label=\"DD Spectator\")\n",
        "\n",
        "ax.set_xlabel('Number of iterations')\n",
        "ax.set_ylabel('Fidility of |11>')\n",
        "ax.legend()\n",
        "plt.show()"
      ]
    },
    {
      "cell_type": "code",
      "execution_count": null,
      "id": "4aa82a1e",
      "metadata": {},
      "outputs": [],
      "source": []
    }
  ],
  "metadata": {
    "colab": {
      "provenance": []
    },
    "kernelspec": {
      "display_name": "qiskit-env",
      "language": "python",
      "name": "python3"
    },
    "language_info": {
      "codemirror_mode": {
        "name": "ipython",
        "version": 3
      },
      "file_extension": ".py",
      "mimetype": "text/x-python",
      "name": "python",
      "nbconvert_exporter": "python",
      "pygments_lexer": "ipython3",
      "version": "3.9.18"
    }
  },
  "nbformat": 4,
  "nbformat_minor": 5
}
