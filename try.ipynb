{
 "cells": [
  {
   "cell_type": "code",
   "execution_count": 4,
   "metadata": {},
   "outputs": [],
   "source": [
    "from qiskit import *\n",
    "NUM_CIRCUITS = 70"
   ]
  },
  {
   "cell_type": "code",
   "execution_count": 8,
   "metadata": {},
   "outputs": [],
   "source": [
    "def generate_dd_spectator_circuits():\n",
    "    qc_multiple = [QuantumCircuit(5, 5) for _ in range(NUM_CIRCUITS)]\n",
    "\n",
    "    for (idx, qc) in enumerate(qc_multiple):\n",
    "        # qc.x(1)\n",
    "        qc.u(51.95, -83.84, 244.53, 1)\n",
    "        for _ in range(280*(idx + 1)):\n",
    "            for i in range(5):\n",
    "                if i != 1:\n",
    "                    qc.x(i)\n",
    "                    qc.y(i)\n",
    "                else:\n",
    "                    qc.id(i)\n",
    "                    qc.id(i)\n",
    "        # qc.x(1)\n",
    "        qc.u(-51.95, 83.84, -244.53, 1)\n",
    "\n",
    "        qc.barrier()\n",
    "        for i in range(5):\n",
    "            qc.measure(i, i)\n",
    "        # qc.draw()\n",
    "    return qc_multiple"
   ]
  },
  {
   "cell_type": "code",
   "execution_count": 7,
   "metadata": {},
   "outputs": [
    {
     "data": {
      "text/html": [
       "<pre style=\"word-wrap: normal;white-space: pre;background: #fff0;line-height: 1.1;font-family: &quot;Courier New&quot;,Courier,monospace\">               ┌───┐           ┌───┐                                 ░ ┌─┐   »\n",
       "q_0: ──────────┤ X ├───────────┤ Y ├─────────────────────────────────░─┤M├───»\n",
       "     ┌─────────┴───┴──────────┐├───┤┌───┐┌─────────────────────────┐ ░ └╥┘┌─┐»\n",
       "q_1: ┤ U(51.95,-83.84,244.53) ├┤ I ├┤ I ├┤ U(-51.95,83.84,-244.53) ├─░──╫─┤M├»\n",
       "     └─────────┬───┬──────────┘├───┤└───┘└─────────────────────────┘ ░  ║ └╥┘»\n",
       "q_2: ──────────┤ X ├───────────┤ Y ├─────────────────────────────────░──╫──╫─»\n",
       "               ├───┤           ├───┤                                 ░  ║  ║ »\n",
       "q_3: ──────────┤ X ├───────────┤ Y ├─────────────────────────────────░──╫──╫─»\n",
       "               ├───┤           ├───┤                                 ░  ║  ║ »\n",
       "q_4: ──────────┤ X ├───────────┤ Y ├─────────────────────────────────░──╫──╫─»\n",
       "               └───┘           └───┘                                 ░  ║  ║ »\n",
       "c: 5/═══════════════════════════════════════════════════════════════════╩══╩═»\n",
       "                                                                        0  1 »\n",
       "«              \n",
       "«q_0: ─────────\n",
       "«              \n",
       "«q_1: ─────────\n",
       "«     ┌─┐      \n",
       "«q_2: ┤M├──────\n",
       "«     └╥┘┌─┐   \n",
       "«q_3: ─╫─┤M├───\n",
       "«      ║ └╥┘┌─┐\n",
       "«q_4: ─╫──╫─┤M├\n",
       "«      ║  ║ └╥┘\n",
       "«c: 5/═╩══╩══╩═\n",
       "«      2  3  4 </pre>"
      ],
      "text/plain": [
       "               ┌───┐           ┌───┐                                 ░ ┌─┐   »\n",
       "q_0: ──────────┤ X ├───────────┤ Y ├─────────────────────────────────░─┤M├───»\n",
       "     ┌─────────┴───┴──────────┐├───┤┌───┐┌─────────────────────────┐ ░ └╥┘┌─┐»\n",
       "q_1: ┤ U(51.95,-83.84,244.53) ├┤ I ├┤ I ├┤ U(-51.95,83.84,-244.53) ├─░──╫─┤M├»\n",
       "     └─────────┬───┬──────────┘├───┤└───┘└─────────────────────────┘ ░  ║ └╥┘»\n",
       "q_2: ──────────┤ X ├───────────┤ Y ├─────────────────────────────────░──╫──╫─»\n",
       "               ├───┤           ├───┤                                 ░  ║  ║ »\n",
       "q_3: ──────────┤ X ├───────────┤ Y ├─────────────────────────────────░──╫──╫─»\n",
       "               ├───┤           ├───┤                                 ░  ║  ║ »\n",
       "q_4: ──────────┤ X ├───────────┤ Y ├─────────────────────────────────░──╫──╫─»\n",
       "               └───┘           └───┘                                 ░  ║  ║ »\n",
       "c: 5/═══════════════════════════════════════════════════════════════════╩══╩═»\n",
       "                                                                        0  1 »\n",
       "«              \n",
       "«q_0: ─────────\n",
       "«              \n",
       "«q_1: ─────────\n",
       "«     ┌─┐      \n",
       "«q_2: ┤M├──────\n",
       "«     └╥┘┌─┐   \n",
       "«q_3: ─╫─┤M├───\n",
       "«      ║ └╥┘┌─┐\n",
       "«q_4: ─╫──╫─┤M├\n",
       "«      ║  ║ └╥┘\n",
       "«c: 5/═╩══╩══╩═\n",
       "«      2  3  4 "
      ]
     },
     "execution_count": 7,
     "metadata": {},
     "output_type": "execute_result"
    }
   ],
   "source": [
    "spectator[0].draw()"
   ]
  },
  {
   "cell_type": "code",
   "execution_count": null,
   "metadata": {},
   "outputs": [],
   "source": []
  }
 ],
 "metadata": {
  "kernelspec": {
   "display_name": "qiskit-env",
   "language": "python",
   "name": "python3"
  },
  "language_info": {
   "codemirror_mode": {
    "name": "ipython",
    "version": 3
   },
   "file_extension": ".py",
   "mimetype": "text/x-python",
   "name": "python",
   "nbconvert_exporter": "python",
   "pygments_lexer": "ipython3",
   "version": "3.9.18"
  }
 },
 "nbformat": 4,
 "nbformat_minor": 2
}
